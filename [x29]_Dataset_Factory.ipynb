{
  "cells": [
    {
      "cell_type": "markdown",
      "metadata": {
        "id": "uCL_kEI5MaBQ"
      },
      "source": [
        "#**Drive mount**"
      ]
    },
    {
      "cell_type": "code",
      "execution_count": null,
      "metadata": {
        "colab": {
          "base_uri": "https://localhost:8080/"
        },
        "id": "VPcE5wbH8VwQ",
        "outputId": "a1ef866d-53f1-4061-8104-832bba7dbb32"
      },
      "outputs": [
        {
          "output_type": "stream",
          "name": "stdout",
          "text": [
            "Mounted at /content/drive\n"
          ]
        }
      ],
      "source": [
        "from google.colab import drive\n",
        "import shutil\n",
        "drive.mount('/content/drive')"
      ]
    },
    {
      "cell_type": "code",
      "execution_count": null,
      "metadata": {
        "colab": {
          "base_uri": "https://localhost:8080/"
        },
        "id": "LxDvoWQBbSed",
        "outputId": "c3e49534-81b7-49c1-a518-f7bb635987ae"
      },
      "outputs": [
        {
          "output_type": "stream",
          "name": "stdout",
          "text": [
            "Looking in indexes: https://pypi.org/simple, https://us-python.pkg.dev/colab-wheels/public/simple/\n",
            "Collecting ssqueezepy\n",
            "  Downloading ssqueezepy-0.6.3-py3-none-any.whl (125 kB)\n",
            "\u001b[K     |████████████████████████████████| 125 kB 5.4 MB/s \n",
            "\u001b[?25hRequirement already satisfied: numba in /usr/local/lib/python3.7/dist-packages (from ssqueezepy) (0.56.3)\n",
            "Requirement already satisfied: scipy in /usr/local/lib/python3.7/dist-packages (from ssqueezepy) (1.7.3)\n",
            "Requirement already satisfied: numpy in /usr/local/lib/python3.7/dist-packages (from ssqueezepy) (1.21.6)\n",
            "Requirement already satisfied: setuptools in /usr/local/lib/python3.7/dist-packages (from numba->ssqueezepy) (57.4.0)\n",
            "Requirement already satisfied: importlib-metadata in /usr/local/lib/python3.7/dist-packages (from numba->ssqueezepy) (4.13.0)\n",
            "Requirement already satisfied: llvmlite<0.40,>=0.39.0dev0 in /usr/local/lib/python3.7/dist-packages (from numba->ssqueezepy) (0.39.1)\n",
            "Requirement already satisfied: typing-extensions>=3.6.4 in /usr/local/lib/python3.7/dist-packages (from importlib-metadata->numba->ssqueezepy) (4.1.1)\n",
            "Requirement already satisfied: zipp>=0.5 in /usr/local/lib/python3.7/dist-packages (from importlib-metadata->numba->ssqueezepy) (3.9.0)\n",
            "Installing collected packages: ssqueezepy\n",
            "Successfully installed ssqueezepy-0.6.3\n"
          ]
        }
      ],
      "source": [
        "pip install ssqueezepy"
      ]
    },
    {
      "cell_type": "code",
      "execution_count": null,
      "metadata": {
        "id": "A8np-oJYrXe2"
      },
      "outputs": [],
      "source": [
        "import numpy as np\n",
        "import scipy.io\n",
        "import pandas as pd\n",
        "import os\n",
        "import random\n",
        "import cv2\n",
        "from google.colab import files\n",
        "from google.colab.patches import cv2_imshow\n",
        "import skimage\n",
        "import matplotlib.pyplot as plt\n",
        "import itertools\n",
        "import torch\n",
        "import torchvision\n",
        "from torchvision.transforms import transforms\n",
        "from torchvision import utils\n",
        "from torch.utils.data import Dataset, DataLoader\n",
        "import torchvision.models as models\n",
        "from torch import nn\n",
        "from torch.nn import functional as F\n",
        "import torch.optim as optim\n",
        "from torch.optim.lr_scheduler import StepLR\n",
        "from torch.nn import Linear, ReLU, CrossEntropyLoss, Sequential, Conv2d, MaxPool2d, Module, Softmax, BatchNorm2d, Dropout\n",
        "from scipy import signal\n",
        "import matplotlib.pyplot as plt\n",
        "from ssqueezepy import cwt\n",
        "from ssqueezepy.visuals import plot, imshow\n",
        "import PIL\n",
        "from PIL import Image\n",
        "import glob\n"
      ]
    },
    {
      "cell_type": "markdown",
      "metadata": {
        "id": "maZJA2Yv3oBh"
      },
      "source": [
        "# Checking number of files in train, test, val"
      ]
    },
    {
      "cell_type": "code",
      "execution_count": null,
      "metadata": {
        "colab": {
          "base_uri": "https://localhost:8080/"
        },
        "id": "0QNp4fEZ2yww",
        "outputId": "88704909-8e04-4848-ba42-504db59b3aed"
      },
      "outputs": [
        {
          "output_type": "stream",
          "name": "stdout",
          "text": [
            "Train Non Social files 78\n",
            "Train Social files 79\n",
            "Test Non Social files 22\n",
            "Test Social files 22\n",
            "Val Non Social files 11\n",
            "Val Social files 11\n"
          ]
        }
      ],
      "source": [
        "# folder path\n",
        "num_sub = str(num_sub)\n",
        "   = '/content/drive/MyDrive/Tirocinio/Datasets/SocialMemoryImgs/Wavelet_Abs_Plt_Jet/Grid/sub' + num_sub + '/train/nonsocial'\n",
        "train_social = '/content/drive/MyDrive/Tirocinio/Datasets/SocialMemoryImgs/Wavelet_Abs_Plt_Jet/Grid/sub' + num_sub + '/train/social'\n",
        "test_nonsocial = '/content/drive/MyDrive/Tirocinio/Datasets/SocialMemoryImgs/Wavelet_Abs_Plt_Jet/Grid/sub' + num_sub + '/test/nonsocial'\n",
        "test_social = '/content/drive/MyDrive/Tirocinio/Datasets/SocialMemoryImgs/Wavelet_Abs_Plt_Jet/Grid/sub' + num_sub + '/test/social'\n",
        "val_nonsocial = '/content/drive/MyDrive/Tirocinio/Datasets/SocialMemoryImgs/Wavelet_Abs_Plt_Jet/Grid/sub' + num_sub + '/val/nonsocial'\n",
        "val_social = '/content/drive/MyDrive/Tirocinio/Datasets/SocialMemoryImgs/Wavelet_Abs_Plt_Jet/Grid/sub' + num_sub + '/val/social'\n",
        "\n",
        "num_of_files = 0\n",
        "# Iterate directory\n",
        "for path in os.listdir(train_nonsocial):\n",
        "    # check if current path is a file\n",
        "    if os.path.isfile(os.path.join(train_nonsocial, path)):\n",
        "        num_of_files += 1\n",
        "print('Train Non Social files', num_of_files)\n",
        "\n",
        "num_of_files = 0\n",
        "# Iterate directory\n",
        "for path in os.listdir(train_social):\n",
        "    # check if current path is a file\n",
        "    if os.path.isfile(os.path.join(train_social, path)):\n",
        "        num_of_files += 1\n",
        "print('Train Social files', num_of_files)\n",
        "\n",
        "num_of_files = 0\n",
        "# Iterate directory\n",
        "for path in os.listdir(test_nonsocial):\n",
        "    # check if current path is a file\n",
        "    if os.path.isfile(os.path.join(test_nonsocial, path)):\n",
        "        num_of_files += 1\n",
        "print('Test Non Social files', num_of_files)\n",
        "\n",
        "num_of_files = 0\n",
        "# Iterate directory\n",
        "for path in os.listdir(test_social):\n",
        "    # check if current path is a file\n",
        "    if os.path.isfile(os.path.join(test_social, path)):\n",
        "        num_of_files += 1\n",
        "print('Test Social files', num_of_files)\n",
        "\n",
        "num_of_files = 0\n",
        "# Iterate directory\n",
        "for path in os.listdir(val_nonsocial):\n",
        "    # check if current path is a file\n",
        "    if os.path.isfile(os.path.join(val_nonsocial, path)):\n",
        "        num_of_files += 1\n",
        "print('Val Non Social files', num_of_files)\n",
        "\n",
        "num_of_files = 0\n",
        "# Iterate directory\n",
        "for path in os.listdir(val_social):\n",
        "    # check if current path is a file\n",
        "    if os.path.isfile(os.path.join(val_social, path)):\n",
        "        num_of_files += 1\n",
        "print('Val Social files', num_of_files)"
      ]
    },
    {
      "cell_type": "code",
      "execution_count": null,
      "metadata": {
        "id": "Vy7V9J_6AgkD"
      },
      "outputs": [],
      "source": [
        "num_sub = 5"
      ]
    },
    {
      "cell_type": "code",
      "execution_count": null,
      "metadata": {
        "colab": {
          "base_uri": "https://localhost:8080/"
        },
        "id": "KhLUp9uslm0q",
        "outputId": "9e278a49-ecc0-4e09-f8f1-0730b3bfc5cd"
      },
      "outputs": [
        {
          "output_type": "stream",
          "name": "stdout",
          "text": [
            "Minore di 10\n"
          ]
        }
      ],
      "source": [
        "SUBJECTS_FOLDER = '/content/drive/MyDrive/Tirocinio/Datasets/Social memory cuing full dataset/derivatives/EEGPreprocessedDataTableStudy'\n",
        "if num_sub <= 9:\n",
        "  num_sub = str(num_sub)\n",
        "  SINGLE_SUBJECT = os.path.join(SUBJECTS_FOLDER, \"sub-0\" + num_sub + \"/ProcessedData/data_ica.mat\")\n",
        "  print('Minore di 10')\n",
        "\n",
        "else:\n",
        "  num_sub = str(num_sub)\n",
        "  SINGLE_SUBJECT = os.path.join(SUBJECTS_FOLDER, \"sub-\" + num_sub + \"/ProcessedData/data_ica.mat\")\n",
        "  print('Maggiore = di 10')\n",
        "\n",
        "#SUBJECTS = [ name for name in os.listdir(SUBJECTS_FOLDER) if os.path.isdir(os.path.join(SUBJECTS_FOLDER, name)) ]\n",
        "#SUBJECTS.sort()\n",
        "DATA = \"ProcessedData/data_ica.mat\""
      ]
    },
    {
      "cell_type": "code",
      "execution_count": null,
      "metadata": {
        "id": "V-tYE8Qrls4H"
      },
      "outputs": [],
      "source": [
        "mat = scipy.io.loadmat(SINGLE_SUBJECT)\n",
        "trial = mat['trial']\n",
        "trialinfo = mat['trialinfo']"
      ]
    },
    {
      "cell_type": "code",
      "execution_count": null,
      "metadata": {
        "colab": {
          "base_uri": "https://localhost:8080/"
        },
        "id": "bP-f0Bx8l37k",
        "outputId": "7dd6d1db-0f3e-410d-ddd8-59dbbb7da832"
      },
      "outputs": [
        {
          "output_type": "stream",
          "name": "stdout",
          "text": [
            "(125, 29)\n"
          ]
        }
      ],
      "source": [
        "trial = np.transpose(np.squeeze(trial))\n",
        "trials = []\n",
        "labels = []\n",
        "NUM_CHANNELS = 29\n",
        "NUM_TRIAL = 224\n",
        "cueing_fase = range(1250,1750)\n",
        "for i, t in enumerate(trial):\n",
        "  trials.append(t[ :NUM_CHANNELS, cueing_fase])\n",
        "  labels.append(trialinfo[i, 5]-1)  #zero is stick, one is avatar --- the -1 to have labels with 0 or 1 values (in dataset are 1 and 2)\n",
        "\n",
        "trials = list(signal.decimate(np.transpose(trials, [0, 2, 1]), 4, axis = 1)) #downsampling\n",
        "\n",
        "\n",
        "print(np.shape(trials[0]))\n"
      ]
    },
    {
      "cell_type": "code",
      "execution_count": null,
      "metadata": {
        "colab": {
          "base_uri": "https://localhost:8080/"
        },
        "id": "l4RbLjN7lXlr",
        "outputId": "39c59838-b444-4c1e-9c10-6e0aca69be0d"
      },
      "outputs": [
        {
          "output_type": "stream",
          "name": "stdout",
          "text": [
            "Shape trials:  (224, 125, 29)\n",
            "Shape trial:  (125, 29)\n",
            "Shape riga trial:  (29,)\n",
            "\n",
            "<class 'list'>\n",
            "<class 'numpy.float64'>\n",
            "[-42.61463921 -31.46198747 -56.00053804  -7.69743213  -3.54184182\n",
            "  -4.4023199   -6.22307626 -19.10046335   6.89144429  -3.04497635\n",
            "  -1.93621139   3.5814017   14.67653137   3.64685107   0.27775719\n",
            "   6.32569456   8.39350586   5.88913852   5.66879864   6.38053792\n",
            "  10.92623594   8.64150507   7.85965478   8.88643233  11.02200811\n",
            "  10.43270732   8.85590631   5.34318613  13.79474039]\n"
          ]
        }
      ],
      "source": [
        "print(f'Shape trials: ', np.shape(trials))\n",
        "print(f'Shape trial: ', np.shape(trials[0]))\n",
        "print(f'Shape riga trial: ', np.shape(trials[0][0]))\n",
        "print()\n",
        "print(type(trials))\n",
        "print(type(trials[0][0][0]))\n",
        "print(trials[0][0])\n"
      ]
    },
    {
      "cell_type": "code",
      "execution_count": null,
      "metadata": {
        "colab": {
          "base_uri": "https://localhost:8080/",
          "height": 337
        },
        "id": "1ZQr5eALwKtP",
        "outputId": "f06f1a67-7996-4c4c-9372-3514deec8e7e"
      },
      "outputs": [
        {
          "output_type": "stream",
          "name": "stdout",
          "text": [
            "Sub Dispari\n",
            "\n",
            "<class 'numpy.ndarray'>\n"
          ]
        },
        {
          "output_type": "execute_result",
          "data": {
            "text/plain": [
              "[<matplotlib.lines.Line2D at 0x7f57192af210>]"
            ]
          },
          "metadata": {},
          "execution_count": 21
        },
        {
          "output_type": "display_data",
          "data": {
            "text/plain": [
              "<Figure size 432x288 with 1 Axes>"
            ],
            "image/png": "[encoded data removed]"
          },
          "metadata": {
            "needs_background": "light"
          }
        }
      ],
      "source": [
        "if labels[0] == 0 and labels[112] == 1:\n",
        "  print('Sub Dispari')\n",
        "\n",
        "if labels[0] == 1 and labels[112] == 0:\n",
        "  print('Sub Pari')\n",
        "\n",
        "print()\n",
        "print(type(trials[0]))\n",
        "\n",
        "#plt.plot(trials[1][:, 0])\n",
        "plt.plot(trials[0][:, 15:16], color='violet')\n",
        "#plt.plot(trials[0][:, 0])"
      ]
    },
    {
      "cell_type": "markdown",
      "metadata": {
        "id": "A6K9fPysRt42"
      },
      "source": [
        "# **Trasformazione trial in CWT**"
      ]
    },
    {
      "cell_type": "code",
      "execution_count": null,
      "metadata": {
        "id": "hYo8umdG8uFZ"
      },
      "outputs": [],
      "source": [
        "trials_cwt = []\n",
        "\n",
        "for idx_trial in range(NUM_TRIAL):\n",
        "  trial = trials[idx_trial]\n",
        "  trial_cwt = []\n",
        "\n",
        "  for idx_col in range(NUM_CHANNELS):\n",
        "    new_col = []\n",
        "    for row in trial:\n",
        "      new_col.append(row[idx_col])\n",
        "\n",
        "    new_col = np.array(new_col)\n",
        "    new_col, scales = cwt(new_col, wavelet = 'morlet')\n",
        "    new_col = abs(new_col)\n",
        "    trial_cwt.append(new_col)\n",
        "\n",
        "  trials_cwt.append(trial_cwt)"
      ]
    },
    {
      "cell_type": "code",
      "execution_count": null,
      "metadata": {
        "colab": {
          "base_uri": "https://localhost:8080/"
        },
        "id": "yceP5q1inULT",
        "outputId": "57f600bc-097d-4b48-a7d0-c8509ce0adce"
      },
      "outputs": [
        {
          "output_type": "stream",
          "name": "stdout",
          "text": [
            "Shape di trials_cwt:  (224, 29, 195, 125)\n",
            "Shape di un trial_cwt:  (29, 195, 125)\n",
            "Shape di un trial_cwt trasposto:  (125, 195, 29)\n",
            "Type di un trial_cwt:  <class 'list'>\n",
            "Shape di una colonna di un trial_cwt trasposto:  (195, 29)\n",
            "Shape di una colonna di un trial_cwt:  (195, 125)\n",
            "(195, 125)\n"
          ]
        }
      ],
      "source": [
        "\n",
        "print(f'Shape di trials_cwt: ', np.shape(trials_cwt))\n",
        "#print(f'Trial trasformato in colonna: ', trial_cwt)\n",
        "print(f'Shape di un trial_cwt: ', np.shape(trial_cwt))\n",
        "trial_cwt_trp = np.transpose(trial_cwt)\n",
        "print(f'Shape di un trial_cwt trasposto: ', np.shape(trial_cwt_trp))\n",
        "print(f'Type di un trial_cwt: ', type(trial_cwt))\n",
        "print(f'Shape di una colonna di un trial_cwt trasposto: ', np.shape(trial_cwt_trp[0]))\n",
        "print(f'Shape di una colonna di un trial_cwt: ', np.shape(trial_cwt[0]))\n",
        "print(np.shape(trials_cwt[0][14]))"
      ]
    },
    {
      "cell_type": "code",
      "execution_count": null,
      "metadata": {
        "id": "vSXLQp2UprGB"
      },
      "outputs": [],
      "source": [
        "cmap = plt.cm.jet\n",
        "plt.imshow(trials_cwt[0][1], aspect='auto', cmap='jet')\n",
        "plt.xlabel('sample')\n",
        "plt.ylabel('scale')\n",
        "plt.colorbar()"
      ]
    },
    {
      "cell_type": "code",
      "execution_count": null,
      "metadata": {
        "id": "XtoFVtklC72M"
      },
      "outputs": [],
      "source": [
        "def tensor_to_image(tensor):\n",
        "  if type(tensor) == torch.tensor:\n",
        "    pass\n",
        "  else:\n",
        "    tensor = tensor*255\n",
        "    tensor = np.array(tensor, dtype=np.uint8)\n",
        "    if np.ndim(tensor)>3:\n",
        "        assert tensor.shape[0] == 1\n",
        "        tensor = tensor[0]\n",
        "    return PIL.Image.fromarray(tensor)"
      ]
    },
    {
      "cell_type": "markdown",
      "metadata": {
        "id": "ibzac9LquLOp"
      },
      "source": [
        "**Se sub pari o dispari, salvo le immagini nelle rispettive cartelle**"
      ]
    },
    {
      "cell_type": "code",
      "execution_count": null,
      "metadata": {
        "id": "zUkLEcJX9ydn"
      },
      "outputs": [],
      "source": [
        "#Se SUB DISPARI\n",
        "if labels[0] == 0 and labels[112] == 1:\n",
        "\n",
        "\n",
        "  NOGRID_TRAIN_RANGE_NONS = range(0,79)\n",
        "  nogrid_path_train_nons = '/content/drive/MyDrive/Tirocinio/Datasets/SocialMemoryImgs/Wavelet_Abs_Plt_Jet/NoGrid/sub' + num_sub + '/train/nonsocial'\n",
        "  grid_path_train_nons = '/content/drive/MyDrive/Tirocinio/Datasets/SocialMemoryImgs/Wavelet_Abs_Plt_Jet/Grid/sub' + num_sub + '/train/nonsocial'\n",
        "  NOGRID_TRAIN_RANGE_S = range(112,191)\n",
        "  nogrid_path_train_s = '/content/drive/MyDrive/Tirocinio/Datasets/SocialMemoryImgs/Wavelet_Abs_Plt_Jet/NoGrid/sub' + num_sub + '/train/social'\n",
        "  grid_path_train_s = '/content/drive/MyDrive/Tirocinio/Datasets/SocialMemoryImgs/Wavelet_Abs_Plt_Jet/Grid/sub' + num_sub + '/train/social'\n",
        "\n",
        "  NOGRID_TEST_RANGE_NONS = range(79,101)\n",
        "  nogrid_path_test_nons = '/content/drive/MyDrive/Tirocinio/Datasets/SocialMemoryImgs/Wavelet_Abs_Plt_Jet/NoGrid/sub' + num_sub + '/test/nonsocial'\n",
        "  grid_path_test_nons = '/content/drive/MyDrive/Tirocinio/Datasets/SocialMemoryImgs/Wavelet_Abs_Plt_Jet/Grid/sub' + num_sub + '/test/nonsocial'\n",
        "  NOGRID_TEST_RANGE_S = range(191,213)\n",
        "  nogrid_path_test_s = '/content/drive/MyDrive/Tirocinio/Datasets/SocialMemoryImgs/Wavelet_Abs_Plt_Jet/NoGrid/sub' + num_sub + '/test/social'\n",
        "  grid_path_test_s = '/content/drive/MyDrive/Tirocinio/Datasets/SocialMemoryImgs/Wavelet_Abs_Plt_Jet/Grid/sub' + num_sub + '/test/social'\n",
        "\n",
        "  NOGRID_VAL_RANGE_NONS = range(101,112)\n",
        "  nogrid_path_val_nons = '/content/drive/MyDrive/Tirocinio/Datasets/SocialMemoryImgs/Wavelet_Abs_Plt_Jet/NoGrid/sub' + num_sub + '/val/nonsocial'\n",
        "  grid_path_val_nons = '/content/drive/MyDrive/Tirocinio/Datasets/SocialMemoryImgs/Wavelet_Abs_Plt_Jet/Grid/sub' + num_sub + '/val/nonsocial'\n",
        "  NOGRID_VAL_RANGE_S = range(213,224)\n",
        "  nogrid_path_val_s = '/content/drive/MyDrive/Tirocinio/Datasets/SocialMemoryImgs/Wavelet_Abs_Plt_Jet/NoGrid/sub' + num_sub + '/val/social'\n",
        "  grid_path_val_s = '/content/drive/MyDrive/Tirocinio/Datasets/SocialMemoryImgs/Wavelet_Abs_Plt_Jet/Grid/sub' + num_sub + '/val/social'\n",
        "\n",
        "  for t in NOGRID_TRAIN_RANGE_NONS:\n",
        "    images = []\n",
        "    for r in range(NUM_CHANNELS):\n",
        "      trials_cwt[t][r] = torch.from_numpy(trials_cwt[t][r])\n",
        "      image = tensor_to_image(trials_cwt[t][r])\n",
        "      image = image.resize((224, 224))\n",
        "      image = nogrid_path_train_nons + '/trial_' + str(t) + '_num channel_' + str(r) + '.png'\n",
        "      plt.imsave(image, trials_cwt[t][r], cmap=cmap)\n",
        "\n",
        "      img = torch.tensor(plt.imread(image))\n",
        "      img = img.permute(2, 0, 1)\n",
        "      images.append(img)\n",
        "\n",
        "    grid = torchvision.utils.make_grid(images, nrow = 6)\n",
        "    plt.figure(figsize=(11,11))\n",
        "    #plt.imshow(np.transpose(grid, (1,2,0)), aspect='auto', cmap= 'jet')\n",
        "    plt.imsave(grid_path_train_nons + '/grid_trial' + str(t) + '.png', np.transpose(grid, (1,2,0)).numpy(), cmap= 'jet')\n",
        "\n",
        "\n",
        "  for t in NOGRID_TRAIN_RANGE_S:\n",
        "    images = []\n",
        "    for r in range(NUM_CHANNELS):\n",
        "      trials_cwt[t][r] = torch.from_numpy(trials_cwt[t][r])\n",
        "      image = tensor_to_image(trials_cwt[t][r])\n",
        "      image = image.resize((224, 224))\n",
        "      image = nogrid_path_train_s + '/trial_' + str(t) + '_num channel_' + str(r) + '.png'\n",
        "      plt.imsave(image, trials_cwt[t][r], cmap=cmap)\n",
        "\n",
        "      img = torch.tensor(plt.imread(image))\n",
        "      img = img.permute(2, 0, 1)\n",
        "      images.append(img)\n",
        "\n",
        "    grid = torchvision.utils.make_grid(images, nrow = 6)\n",
        "    plt.figure(figsize=(11,11))\n",
        "    #plt.imshow(np.transpose(grid, (1,2,0)), aspect='auto', cmap= 'jet')\n",
        "    plt.imsave(grid_path_train_s + '/grid_trial' + str(t) + '.png', np.transpose(grid, (1,2,0)).numpy(), cmap= 'jet')\n",
        "\n",
        "  for t in NOGRID_TEST_RANGE_NONS:\n",
        "    images = []\n",
        "    for r in range(NUM_CHANNELS):\n",
        "      trials_cwt[t][r] = torch.from_numpy(trials_cwt[t][r])\n",
        "      image = tensor_to_image(trials_cwt[t][r])\n",
        "      image = image.resize((224, 224))\n",
        "      image = nogrid_path_test_nons + '/trial_' + str(t) + '_num channel_' + str(r) + '.png'\n",
        "      plt.imsave(image, trials_cwt[t][r], cmap=cmap)\n",
        "\n",
        "      img = torch.tensor(plt.imread(image))\n",
        "      img = img.permute(2, 0, 1)\n",
        "      images.append(img)\n",
        "\n",
        "    grid = torchvision.utils.make_grid(images, nrow = 6)\n",
        "    plt.figure(figsize=(11,11))\n",
        "    #plt.imshow(np.transpose(grid, (1,2,0)), aspect='auto', cmap= 'jet')\n",
        "    plt.imsave(grid_path_test_nons + '/grid_trial' + str(t) + '.png', np.transpose(grid, (1,2,0)).numpy(), cmap= 'jet')\n",
        "\n",
        "  for t in NOGRID_TEST_RANGE_S:\n",
        "    images = []\n",
        "    for r in range(NUM_CHANNELS):\n",
        "      trials_cwt[t][r] = torch.from_numpy(trials_cwt[t][r])\n",
        "      image = tensor_to_image(trials_cwt[t][r])\n",
        "      image = image.resize((224, 224))\n",
        "      image = nogrid_path_test_s + '/trial_' + str(t) + '_num channel_' + str(r) + '.png'\n",
        "      plt.imsave(image, trials_cwt[t][r], cmap=cmap)\n",
        "\n",
        "      img = torch.tensor(plt.imread(image))\n",
        "      img = img.permute(2, 0, 1)\n",
        "      images.append(img)\n",
        "\n",
        "    grid = torchvision.utils.make_grid(images, nrow = 6)\n",
        "    plt.figure(figsize=(11,11))\n",
        "    #plt.imshow(np.transpose(grid, (1,2,0)), aspect='auto', cmap= 'jet')\n",
        "    plt.imsave(grid_path_test_s + '/grid_trial' + str(t) + '.png', np.transpose(grid, (1,2,0)).numpy(), cmap= 'jet')\n",
        "\n",
        "  for t in NOGRID_VAL_RANGE_NONS:\n",
        "    images = []\n",
        "    for r in range(NUM_CHANNELS):\n",
        "      trials_cwt[t][r] = torch.from_numpy(trials_cwt[t][r])\n",
        "      image = tensor_to_image(trials_cwt[t][r])\n",
        "      image = image.resize((224, 224))\n",
        "      image = nogrid_path_val_nons + '/trial_' + str(t) + '_num channel_' + str(r) + '.png'\n",
        "      plt.imsave(image, trials_cwt[t][r], cmap=cmap)\n",
        "\n",
        "      img = torch.tensor(plt.imread(image))\n",
        "      img = img.permute(2, 0, 1)\n",
        "      images.append(img)\n",
        "\n",
        "    grid = torchvision.utils.make_grid(images, nrow = 6)\n",
        "    plt.figure(figsize=(11,11))\n",
        "    #plt.imshow(np.transpose(grid, (1,2,0)), aspect='auto', cmap= 'jet')\n",
        "    plt.imsave(grid_path_val_nons + '/grid_trial' + str(t) + '.png', np.transpose(grid, (1,2,0)).numpy(), cmap= 'jet')\n",
        "\n",
        "  for t in NOGRID_VAL_RANGE_S:\n",
        "    images = []\n",
        "    for r in range(NUM_CHANNELS):\n",
        "      trials_cwt[t][r] = torch.from_numpy(trials_cwt[t][r])\n",
        "      image = tensor_to_image(trials_cwt[t][r])\n",
        "      image = image.resize((224, 224))\n",
        "      image = nogrid_path_val_s + '/trial_' + str(t) + '_num channel_' + str(r) + '.png'\n",
        "      plt.imsave(image, trials_cwt[t][r], cmap=cmap)\n",
        "\n",
        "      img = torch.tensor(plt.imread(image))\n",
        "      img = img.permute(2, 0, 1)\n",
        "      images.append(img)\n",
        "\n",
        "    grid = torchvision.utils.make_grid(images, nrow = 6)\n",
        "    plt.figure(figsize=(11,11))\n",
        "    #plt.imshow(np.transpose(grid, (1,2,0)), aspect='auto', cmap= 'jet')\n",
        "    plt.imsave(grid_path_val_s + '/grid_trial' + str(t) + '.png', np.transpose(grid, (1,2,0)).numpy(), cmap= 'jet')\n",
        "\n",
        "else:\n",
        "  print('Hai sbagliato cella, era pari')"
      ]
    },
    {
      "cell_type": "code",
      "execution_count": null,
      "metadata": {
        "id": "dxAjmmEdwlaY"
      },
      "outputs": [],
      "source": [
        "#Se SUB PARI\n",
        "if labels[0] == 1 and labels[112] == 0:\n",
        "\n",
        "\n",
        "  NOGRID_TRAIN_RANGE_S = range(0,79)\n",
        "  nogrid_path_train_s = '/content/drive/MyDrive/Tirocinio/Datasets/SocialMemoryImgs/Wavelet_Abs_Plt_Jet/NoGrid/sub' + num_sub + '/train/social'\n",
        "  grid_path_train_s = '/content/drive/MyDrive/Tirocinio/Datasets/SocialMemoryImgs/Wavelet_Abs_Plt_Jet/Grid/sub' + num_sub + '/train/social'\n",
        "\n",
        "  NOGRID_TRAIN_RANGE_NONS = range(112,191)\n",
        "  nogrid_path_train_nons = '/content/drive/MyDrive/Tirocinio/Datasets/SocialMemoryImgs/Wavelet_Abs_Plt_Jet/NoGrid/sub' + num_sub + '/train/nonsocial'\n",
        "  grid_path_train_nons = '/content/drive/MyDrive/Tirocinio/Datasets/SocialMemoryImgs/Wavelet_Abs_Plt_Jet/Grid/sub' + num_sub + '/train/nonsocial'\n",
        "\n",
        "  NOGRID_TEST_RANGE_S = range(79,101)\n",
        "  nogrid_path_test_s = '/content/drive/MyDrive/Tirocinio/Datasets/SocialMemoryImgs/Wavelet_Abs_Plt_Jet/NoGrid/sub' + num_sub + '/test/social'\n",
        "  grid_path_test_s = '/content/drive/MyDrive/Tirocinio/Datasets/SocialMemoryImgs/Wavelet_Abs_Plt_Jet/Grid/sub' + num_sub + '/test/social'\n",
        "\n",
        "  NOGRID_TEST_RANGE_NONS = range(191,213)\n",
        "  nogrid_path_test_nons = '/content/drive/MyDrive/Tirocinio/Datasets/SocialMemoryImgs/Wavelet_Abs_Plt_Jet/NoGrid/sub' + num_sub + '/test/nonsocial'\n",
        "  grid_path_test_nons = '/content/drive/MyDrive/Tirocinio/Datasets/SocialMemoryImgs/Wavelet_Abs_Plt_Jet/Grid/sub' + num_sub + '/test/nonsocial'\n",
        "\n",
        "  NOGRID_VAL_RANGE_S = range(101,112)\n",
        "  nogrid_path_val_s = '/content/drive/MyDrive/Tirocinio/Datasets/SocialMemoryImgs/Wavelet_Abs_Plt_Jet/NoGrid/sub' + num_sub + '/val/social'\n",
        "  grid_path_val_s = '/content/drive/MyDrive/Tirocinio/Datasets/SocialMemoryImgs/Wavelet_Abs_Plt_Jet/Grid/sub' + num_sub + '/val/social'\n",
        "\n",
        "  NOGRID_VAL_RANGE_NONS = range(213,224)\n",
        "  nogrid_path_val_nons = '/content/drive/MyDrive/Tirocinio/Datasets/SocialMemoryImgs/Wavelet_Abs_Plt_Jet/NoGrid/sub' + num_sub + '/val/nonsocial'\n",
        "  grid_path_val_nons = '/content/drive/MyDrive/Tirocinio/Datasets/SocialMemoryImgs/Wavelet_Abs_Plt_Jet/Grid/sub' + num_sub + '/val/nonsocial'\n",
        "\n",
        "  for t in NOGRID_TRAIN_RANGE_S:\n",
        "    images = []\n",
        "    for r in range(NUM_CHANNELS):\n",
        "      trials_cwt[t][r] = torch.from_numpy(trials_cwt[t][r])\n",
        "      image = tensor_to_image(trials_cwt[t][r])\n",
        "      image = image.resize((224, 224))\n",
        "      image = nogrid_path_train_s + '/trial_' + str(t) + '_num channel_' + str(r) + '.png'\n",
        "      plt.imsave(image, trials_cwt[t][r], cmap=cmap)\n",
        "\n",
        "      img = torch.tensor(plt.imread(image))\n",
        "      img = img.permute(2, 0, 1)\n",
        "      images.append(img)\n",
        "\n",
        "    grid = torchvision.utils.make_grid(images, nrow = 6)\n",
        "    plt.figure(figsize=(11,11))\n",
        "    #plt.imshow(np.transpose(grid, (1,2,0)), aspect='auto', cmap= 'jet')\n",
        "    plt.imsave(grid_path_train_s + '/grid_trial' + str(t) + '.png', np.transpose(grid, (1,2,0)).numpy(), cmap= 'jet')\n",
        "\n",
        "  for t in NOGRID_TRAIN_RANGE_NONS:\n",
        "    images = []\n",
        "    for r in range(NUM_CHANNELS):\n",
        "      trials_cwt[t][r] = torch.from_numpy(trials_cwt[t][r])\n",
        "      image = tensor_to_image(trials_cwt[t][r])\n",
        "      image = image.resize((224, 224))\n",
        "      image = nogrid_path_train_nons + '/trial_' + str(t) + '_num channel_' + str(r) + '.png'\n",
        "      plt.imsave(image, trials_cwt[t][r], cmap=cmap)\n",
        "\n",
        "      img = torch.tensor(plt.imread(image))\n",
        "      img = img.permute(2, 0, 1)\n",
        "      images.append(img)\n",
        "\n",
        "    grid = torchvision.utils.make_grid(images, nrow = 6)\n",
        "    plt.figure(figsize=(11,11))\n",
        "    #plt.imshow(np.transpose(grid, (1,2,0)), aspect='auto', cmap= 'jet')\n",
        "    plt.imsave(grid_path_train_nons + '/grid_trial' + str(t) + '.png', np.transpose(grid, (1,2,0)).numpy(), cmap= 'jet')\n",
        "\n",
        "\n",
        "  for t in NOGRID_TEST_RANGE_S:\n",
        "    images = []\n",
        "    for r in range(NUM_CHANNELS):\n",
        "      trials_cwt[t][r] = torch.from_numpy(trials_cwt[t][r])\n",
        "      image = tensor_to_image(trials_cwt[t][r])\n",
        "      image = image.resize((224, 224))\n",
        "      image = nogrid_path_test_s + '/trial_' + str(t) + '_num channel_' + str(r) + '.png'\n",
        "      plt.imsave(image, trials_cwt[t][r], cmap=cmap)\n",
        "\n",
        "      img = torch.tensor(plt.imread(image))\n",
        "      img = img.permute(2, 0, 1)\n",
        "      images.append(img)\n",
        "\n",
        "    grid = torchvision.utils.make_grid(images, nrow = 6)\n",
        "    plt.figure(figsize=(11,11))\n",
        "    #plt.imshow(np.transpose(grid, (1,2,0)), aspect='auto', cmap= 'jet')\n",
        "    plt.imsave(grid_path_test_s + '/grid_trial' + str(t) + '.png', np.transpose(grid, (1,2,0)).numpy(), cmap= 'jet')\n",
        "\n",
        "  for t in NOGRID_TEST_RANGE_NONS:\n",
        "    images = []\n",
        "    for r in range(NUM_CHANNELS):\n",
        "      trials_cwt[t][r] = torch.from_numpy(trials_cwt[t][r])\n",
        "      image = tensor_to_image(trials_cwt[t][r])\n",
        "      image = image.resize((224, 224))\n",
        "      image = nogrid_path_test_nons + '/trial_' + str(t) + '_num channel_' + str(r) + '.png'\n",
        "      plt.imsave(image, trials_cwt[t][r], cmap=cmap)\n",
        "\n",
        "      img = torch.tensor(plt.imread(image))\n",
        "      img = img.permute(2, 0, 1)\n",
        "      images.append(img)\n",
        "\n",
        "    grid = torchvision.utils.make_grid(images, nrow = 6)\n",
        "    plt.figure(figsize=(11,11))\n",
        "    #plt.imshow(np.transpose(grid, (1,2,0)), aspect='auto', cmap= 'jet')\n",
        "    plt.imsave(grid_path_test_nons + '/grid_trial' + str(t) + '.png', np.transpose(grid, (1,2,0)).numpy(), cmap= 'jet')\n",
        "\n",
        "\n",
        "  for t in NOGRID_VAL_RANGE_S:\n",
        "    images = []\n",
        "    for r in range(NUM_CHANNELS):\n",
        "      trials_cwt[t][r] = torch.from_numpy(trials_cwt[t][r])\n",
        "      image = tensor_to_image(trials_cwt[t][r])\n",
        "      image = image.resize((224, 224))\n",
        "      image = nogrid_path_val_s + '/trial_' + str(t) + '_num channel_' + str(r) + '.png'\n",
        "      plt.imsave(image, trials_cwt[t][r], cmap=cmap)\n",
        "\n",
        "      img = torch.tensor(plt.imread(image))\n",
        "      img = img.permute(2, 0, 1)\n",
        "      images.append(img)\n",
        "\n",
        "    grid = torchvision.utils.make_grid(images, nrow = 6)\n",
        "    plt.figure(figsize=(11,11))\n",
        "    #plt.imshow(np.transpose(grid, (1,2,0)), aspect='auto', cmap= 'jet')\n",
        "    plt.imsave(grid_path_val_s + '/grid_trial' + str(t) + '.png', np.transpose(grid, (1,2,0)).numpy(), cmap= 'jet')\n",
        "\n",
        "  for t in NOGRID_VAL_RANGE_NONS:\n",
        "    images = []\n",
        "    for r in range(NUM_CHANNELS):\n",
        "      trials_cwt[t][r] = torch.from_numpy(trials_cwt[t][r])\n",
        "      image = tensor_to_image(trials_cwt[t][r])\n",
        "      image = image.resize((224, 224))\n",
        "      image = nogrid_path_val_nons + '/trial_' + str(t) + '_num channel_' + str(r) + '.png'\n",
        "      plt.imsave(image, trials_cwt[t][r], cmap=cmap)\n",
        "\n",
        "      img = torch.tensor(plt.imread(image))\n",
        "      img = img.permute(2, 0, 1)\n",
        "      images.append(img)\n",
        "\n",
        "    grid = torchvision.utils.make_grid(images, nrow = 6)\n",
        "    plt.figure(figsize=(11,11))\n",
        "    #plt.imshow(np.transpose(grid, (1,2,0)), aspect='auto', cmap= 'jet')\n",
        "    plt.imsave(grid_path_val_nons + '/grid_trial' + str(t) + '.png', np.transpose(grid, (1,2,0)).numpy(), cmap= 'jet')\n",
        "\n",
        "else:\n",
        "  print('Hai sbagliato cella, era dispari')"
      ]
    },
    {
      "cell_type": "markdown",
      "metadata": {
        "id": "04Fmx26auG6F"
      },
      "source": [
        "*Creazione Cartelle per Dataset*"
      ]
    },
    {
      "cell_type": "code",
      "execution_count": null,
      "metadata": {
        "id": "yqqX5rNScSM4"
      },
      "outputs": [],
      "source": [
        "SUBJ_RANGE = range(1,51)\n",
        "\n",
        "grid_path = '/content/drive/MyDrive/Tirocinio/Datasets/SocialMemoryImgs/Wavelet_Abs_Plt_Jet/NoGrid'\n",
        "train_test_val = ['train', 'test', 'val']\n",
        "nonsocial_social = ['nonsocial','social']\n",
        "for sub in SUBJ_RANGE:\n",
        "  if sub == 1 or sub == 2 or sub == 7 or sub == 8 or sub == 16 or sub == 17 or sub == 36 or sub == 42 or sub == 47:\n",
        "    continue\n",
        "  else:\n",
        "    os.mkdir(grid_path + '/sub' + str(sub))\n",
        "    sub_path = grid_path + '/sub' + str(sub)\n",
        "    for ttv in train_test_val:\n",
        "      path = os.path.join(sub_path, ttv)\n",
        "      os.mkdir(path)\n",
        "      for nss in nonsocial_social:\n",
        "        path_s = os.path.join(path, nss)\n",
        "        os.mkdir(path_s)"
      ]
    },
    {
      "cell_type": "code",
      "execution_count": null,
      "metadata": {
        "id": "FP5bYzJzDIOG"
      },
      "outputs": [],
      "source": [
        "m = [[1,2,3],\n",
        "     [4,5,6],\n",
        "     [7,8,9]]\n",
        "\n",
        "m_trasp = []\n",
        "\n",
        "print(np.shape(m))\n",
        "num_col = range(3)\n",
        "\n",
        "for c in range(num_col):\n",
        "  new_col  = []\n",
        "  for r in m:\n",
        "    new_col.append(r[c])\n",
        "  new_col = np.transpose(new_col)\n",
        "  m_trasp.append(new_col)\n",
        "\n",
        "\n",
        "print(f'M:  ', m)\n",
        "print(f'M Trasp:  ', m_trasp)\n",
        "\n",
        "print(m[0])\n"
      ]
    }
  ],
  "metadata": {
    "colab": {
      "provenance": []
    },
    "kernelspec": {
      "display_name": "Python 3",
      "name": "python3"
    },
    "language_info": {
      "name": "python"
    }
  },
  "nbformat": 4,
  "nbformat_minor": 0
}