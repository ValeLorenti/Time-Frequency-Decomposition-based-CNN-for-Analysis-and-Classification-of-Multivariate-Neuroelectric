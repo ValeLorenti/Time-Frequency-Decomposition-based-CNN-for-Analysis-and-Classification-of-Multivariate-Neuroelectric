{
  "cells": [
    {
      "cell_type": "markdown",
      "metadata": {
        "id": "uCL_kEI5MaBQ"
      },
      "source": [
        "#**Drive mount**"
      ]
    },
    {
      "cell_type": "code",
      "execution_count": null,
      "metadata": {
        "colab": {
          "base_uri": "https://localhost:8080/"
        },
        "id": "VPcE5wbH8VwQ",
        "outputId": "5c97ac35-db9f-4a5c-9458-a017c307c0c3"
      },
      "outputs": [
        {
          "output_type": "stream",
          "name": "stdout",
          "text": [
            "Mounted at /content/drive\n"
          ]
        }
      ],
      "source": [
        "from google.colab import drive\n",
        "import shutil\n",
        "drive.mount('/content/drive')"
      ]
    },
    {
      "cell_type": "code",
      "execution_count": null,
      "metadata": {
        "id": "A8np-oJYrXe2"
      },
      "outputs": [],
      "source": [
        "import numpy as np\n",
        "import scipy.io\n",
        "import pandas as pd\n",
        "import os\n",
        "import random\n",
        "import cv2\n",
        "from google.colab.patches import cv2_imshow\n",
        "import skimage\n",
        "import matplotlib.pyplot as plt\n",
        "import itertools\n",
        "import torch\n",
        "from torchvision.transforms import transforms\n",
        "from torch.utils.data import Dataset, DataLoader\n",
        "import torchvision.models as models\n",
        "from torch import nn\n",
        "from torch.nn import functional as F\n",
        "import torch.optim as optim\n",
        "from torch.optim.lr_scheduler import StepLR\n",
        "from torch.nn import Linear, ReLU, CrossEntropyLoss, Sequential, Conv2d, MaxPool2d, Module, Softmax, BatchNorm2d, Dropout\n",
        "from scipy import signal\n",
        "import matplotlib.pyplot as plt\n",
        "from sklearn import svm\n",
        "from sklearn.ensemble import RandomForestClassifier, GradientBoostingClassifier\n",
        "from sklearn import metrics\n",
        "import xgboost as xgb"
      ]
    },
    {
      "cell_type": "markdown",
      "metadata": {
        "id": "X_h5Hd-amVD2"
      },
      "source": [
        "##**Normalizzazione**"
      ]
    },
    {
      "cell_type": "code",
      "execution_count": null,
      "metadata": {
        "id": "vJncOOfxmVD4"
      },
      "outputs": [],
      "source": [
        "def _normalize_trial(trial):\n",
        "  trial_avg = np.mean(trial)\n",
        "  trial_std = np.std(trial)\n",
        "\n",
        "  trial = (trial - trial_avg)/trial_std\n",
        "  return trial"
      ]
    },
    {
      "cell_type": "markdown",
      "metadata": {
        "id": "ukF9OdCqmVD4"
      },
      "source": [
        "##**Dataset**"
      ]
    },
    {
      "cell_type": "code",
      "execution_count": null,
      "metadata": {
        "id": "LnXPuKjomVD5"
      },
      "outputs": [],
      "source": [
        "class EEG_dataset(Dataset):\n",
        "\n",
        "    def __init__(self, trials, labels):\n",
        "        self.trials = trials\n",
        "        self.labels = labels\n",
        "        self._init_data()\n",
        "\n",
        "    def _init_data(self):\n",
        "        self.samples = []\n",
        "        for i, trial in enumerate(self.trials):\n",
        "            self.samples.append((trial, self.labels[i]))    \n",
        "    \n",
        "    def __len__(self):\n",
        "      return len(self.samples)\n",
        "\n",
        "    def __getitem__(self, idx):\n",
        "\n",
        "      return torch.tensor(_normalize_trial(self.trials[idx])), torch.tensor(self.labels[idx], dtype=torch.long)"
      ]
    },
    {
      "cell_type": "code",
      "source": [
        "print(labels)"
      ],
      "metadata": {
        "id": "ZQxZabYiQu3C"
      },
      "execution_count": null,
      "outputs": []
    },
    {
      "cell_type": "markdown",
      "source": [
        "# **Splitting, Flatten and ML_Classification**"
      ],
      "metadata": {
        "id": "j6G9sdpWFW0p"
      }
    },
    {
      "cell_type": "code",
      "source": [
        "from sklearn.model_selection import train_test_split\n",
        "\n",
        "def split_subjs(trials, labels):\n",
        "    if labels[0] == 0 and labels[112] == 1:\n",
        "      #print('Sub Dispari')\n",
        "      NONSOCIAL_RANGE = range(0,112)\n",
        "      SOCIAL_RANGE = range(112,224)\n",
        "      TRAIN_RANGE_S = range(0,79)\n",
        "      TRAIN_RANGE_NONS = range(112,191)\n",
        "      TEST_RANGE_S = range(79,101)\n",
        "      TEST_RANGE_NONS = range(191,213)\n",
        "      VAL_RANGE_S = range(101,112)\n",
        "      VAL_RANGE_NONS = range(213,224)\n",
        "\n",
        "\n",
        "      nonsoc_trials = []\n",
        "      for nonsoc in NONSOCIAL_RANGE:\n",
        "        nonsoc_trials.append(trials[nonsoc])\n",
        "      seed = 42\n",
        "      random.seed(seed)\n",
        "      random.shuffle(nonsoc_trials)\n",
        "\n",
        "      soc_trials = []\n",
        "      for soc in SOCIAL_RANGE:\n",
        "        soc_trials.append(trials[soc])\n",
        "      seed = 42\n",
        "      random.seed(seed)\n",
        "      random.shuffle(soc_trials)\n",
        "\n",
        "      trials = nonsoc_trials + soc_trials\n",
        "\n",
        "      train_data = []\n",
        "      train_labels = []\n",
        "      for tns in TRAIN_RANGE_NONS:\n",
        "        train_data.append(trials[tns])\n",
        "        train_labels.append(labels[tns])\n",
        "      for ts in TRAIN_RANGE_S:\n",
        "        train_data.append(trials[ts])\n",
        "        train_labels.append(labels[ts])\n",
        "\n",
        "      test_data = []\n",
        "      test_labels = []\n",
        "      for tens in TEST_RANGE_NONS:\n",
        "        test_data.append(trials[tens])\n",
        "        test_labels.append(labels[tens])\n",
        "      for tes in TEST_RANGE_S:\n",
        "        test_data.append(trials[tes])\n",
        "        test_labels.append(labels[tes])\n",
        "\n",
        "      val_data = []\n",
        "      val_labels = []\n",
        "      for vns in VAL_RANGE_NONS:\n",
        "        val_data.append(trials[vns])\n",
        "        val_labels.append(labels[vns])\n",
        "      for vs in VAL_RANGE_S:\n",
        "        val_data.append(trials[vs])\n",
        "        val_labels.append(labels[vs])\n",
        "\n",
        "    # ----- PARI ---------\n",
        "\n",
        "    if labels[0] == 1 and labels[112] == 0:\n",
        "      #print('Sub Pari')\n",
        "      SOCIAL_RANGE = range(0,112)\n",
        "      NONSOCIAL_RANGE = range(112,224)\n",
        "\n",
        "      TRAIN_RANGE_S = range(0,79)\n",
        "      TRAIN_RANGE_NONS = range(112,191)\n",
        "\n",
        "      TEST_RANGE_S = range(79,101)\n",
        "      TEST_RANGE_NONS = range(191,213)\n",
        "\n",
        "      VAL_RANGE_S = range(101,112)\n",
        "      VAL_RANGE_NONS = range(213,224)\n",
        "\n",
        "\n",
        "      soc_trials = []\n",
        "      for soc in SOCIAL_RANGE:\n",
        "        soc_trials.append(trials[soc])\n",
        "      seed = 42\n",
        "      random.seed(seed)\n",
        "      random.shuffle(soc_trials)\n",
        "\n",
        "      nonsoc_trials = []\n",
        "      for nonsoc in NONSOCIAL_RANGE:\n",
        "        nonsoc_trials.append(trials[nonsoc])\n",
        "      seed = 42\n",
        "      random.seed(seed)\n",
        "      random.shuffle(nonsoc_trials)\n",
        "\n",
        "      trials = soc_trials + nonsoc_trials\n",
        "\n",
        "      train_data = []\n",
        "      train_labels = []\n",
        "\n",
        "      for ts in TRAIN_RANGE_S:\n",
        "        train_data.append(trials[ts])\n",
        "        train_labels.append(labels[ts])\n",
        "      for tns in TRAIN_RANGE_NONS:\n",
        "        train_data.append(trials[tns])\n",
        "        train_labels.append(labels[tns])\n",
        "\n",
        "      test_data = []\n",
        "      test_labels = []\n",
        "\n",
        "\n",
        "      for tes in TEST_RANGE_S:\n",
        "        test_data.append(trials[tes])\n",
        "        test_labels.append(labels[tes])\n",
        "      for tens in TEST_RANGE_NONS:\n",
        "        test_data.append(trials[tens])\n",
        "        test_labels.append(labels[tens])\n",
        "\n",
        "      val_data = []\n",
        "      val_labels = []\n",
        "\n",
        "\n",
        "      for vs in VAL_RANGE_S:\n",
        "        val_data.append(trials[vs])\n",
        "        val_labels.append(labels[vs])\n",
        "      for vns in VAL_RANGE_NONS:\n",
        "        val_data.append(trials[vns])\n",
        "        val_labels.append(labels[vns])\n",
        "\n",
        "    #print(f'Train Data Shape: ', np.shape(train_data))\n",
        "    #print(f'Test Data Shape: ', np.shape(test_data))\n",
        "    #print(f'Val Data Shape: ', np.shape(val_data))\n",
        "\n",
        "    return train_data,train_labels, test_data, test_labels, val_data, val_labels"
      ],
      "metadata": {
        "id": "wADm7wwbBS5E"
      },
      "execution_count": null,
      "outputs": []
    },
    {
      "cell_type": "markdown",
      "source": [
        "**Flatten per ML_Classifiers**\n",
        "\n",
        "\n"
      ],
      "metadata": {
        "id": "tkZ99tARx_vI"
      }
    },
    {
      "cell_type": "code",
      "source": [
        "def flatten(train_data, test_data, val_data):\n",
        "\n",
        "    train_data = np.array(train_data)\n",
        "    test_data = np.array(test_data)\n",
        "    val_data = np.array(val_data)\n",
        "\n",
        "    train_loop = range(0,158)\n",
        "    test_loop = range(0,44)\n",
        "    val_loop = range(0,22)\n",
        "\n",
        "    #print(f'TRAIN PRIMA: ', np.shape(train_data))\n",
        "    #print(f'TEST PRIMA: ', np.shape(test_data))\n",
        "    #print(f'VAL PRIMA: ', np.shape(val_data))\n",
        "\n",
        "    train_data_flatt = []\n",
        "    test_data_flat = []\n",
        "    test_data_flatt = []\n",
        "    val_data_flatt = []\n",
        "    \n",
        "\n",
        "    for t in train_loop:\n",
        "      train_data_flatt.append(train_data[t].flatten())\n",
        "\n",
        "    for te in test_loop:\n",
        "      test_data_flat.append(test_data[te].flatten())\n",
        "\n",
        "    for v in val_loop:\n",
        "      val_data_flatt.append(val_data[v].flatten())\n",
        "\n",
        "    test_data_flatt = test_data_flat + val_data_flatt\n",
        "\n",
        "\n",
        "    #print(f'TRAIN DOPO: ', np.shape(train_data_flatt))\n",
        "    #print(f'TEST DOPO: ', np.shape(test_data_flatt))\n",
        "    #print(f'VAL DOPO: ', np.shape(val_data_flatt))\n",
        "\n",
        "    return train_data_flatt, test_data_flatt, val_data_flatt\n",
        "\n"
      ],
      "metadata": {
        "id": "x_V0hwqFx-_l"
      },
      "execution_count": null,
      "outputs": []
    },
    {
      "cell_type": "code",
      "source": [
        "def ml_classification(train_data_flatt, train_labels, test_data_flatt):\n",
        "    # --SVM--\n",
        "    #Create a svm Classifier\n",
        "    svm_clf = svm.SVC(kernel='rbf') # Linear Kernel\n",
        "\n",
        "    #Train the model using the training sets\n",
        "    svm_clf.fit(train_data_flatt, train_labels)\n",
        "\n",
        "    #Predict the response for test dataset\n",
        "    y_pred_svm = svm_clf.predict(test_data_flatt)\n",
        "\n",
        "    # --RandomForest--\n",
        "\n",
        "    rf_clf = RandomForestClassifier()\n",
        "\n",
        "    rf_clf.fit(train_data_flatt, train_labels)\n",
        "\n",
        "    y_pred_rf = rf_clf.predict(test_data_flatt)\n",
        "\n",
        "     # --XGBoost--\n",
        "\n",
        "    xgb_clf = GradientBoostingClassifier(n_estimators = 100, learning_rate = 1.0, max_depth = 1, random_state = 0)\n",
        "\n",
        "    xgb_clf.fit(train_data_flatt, train_labels)\n",
        "\n",
        "    y_pred_xgb = xgb_clf.predict(test_data_flatt)\n",
        "\n",
        "    print('SVM of ' + s + ': ', metrics.accuracy_score(test_labels, y_pred_svm))\n",
        "    print('RandomForest of ' + s + ': ', metrics.accuracy_score(test_labels, y_pred_rf))\n",
        "    print('XGBoost of ' + s + ': ', metrics.accuracy_score(test_labels, y_pred_xgb))\n",
        "    print('---------------------------------------------------------------')\n",
        "\n",
        "\n",
        "'''\n",
        "# --KNN--\n",
        "from sklearn.neighbors import KNeighborsClassifier\n",
        "knn_clf = KNeighborsClassifier(n_neighbors = 100)\n",
        "\n",
        "knn_clf.fit(train_data_flatt, train_labels)\n",
        "\n",
        "y_pred_knn = knn_clf.predict(test_data_flatt)\n",
        "'''"
      ],
      "metadata": {
        "colab": {
          "base_uri": "https://localhost:8080/",
          "height": 72
        },
        "id": "2fGb30fArSxw",
        "outputId": "211c4792-7907-42bb-8bd6-64f49379c872"
      },
      "execution_count": null,
      "outputs": [
        {
          "output_type": "execute_result",
          "data": {
            "text/plain": [
              "'\\n# --KNN--\\nfrom sklearn.neighbors import KNeighborsClassifier\\nknn_clf = KNeighborsClassifier(n_neighbors = 100)\\n\\nknn_clf.fit(train_data_flatt, train_labels)\\n\\ny_pred_knn = knn_clf.predict(test_data_flatt)\\n'"
            ],
            "application/vnd.google.colaboratory.intrinsic+json": {
              "type": "string"
            }
          },
          "metadata": {},
          "execution_count": 17
        }
      ]
    },
    {
      "cell_type": "markdown",
      "source": [
        "#**All Subjs**"
      ],
      "metadata": {
        "id": "BAJXm9KpFfps"
      }
    },
    {
      "cell_type": "code",
      "execution_count": null,
      "metadata": {
        "id": "KhLUp9uslm0q"
      },
      "outputs": [],
      "source": [
        "SUBJECTS_FOLDER = '/content/drive/MyDrive/Tirocinio/Datasets/Social memory cuing full dataset/derivatives/EEGPreprocessedDataTableStudy'\n",
        "SINGLE_SUBJECT = os.path.join(SUBJECTS_FOLDER, \"sub-10/ProcessedData/data_ica.mat\")\n",
        "SUBJECTS = [ name for name in os.listdir(SUBJECTS_FOLDER) if os.path.isdir(os.path.join(SUBJECTS_FOLDER, name)) ]\n",
        "SUBJECTS.sort()\n",
        "DATA = \"ProcessedData/data_ica.mat\""
      ]
    },
    {
      "cell_type": "code",
      "source": [
        "NUM_CHANNELS = 29\n",
        "NUM_TRIAL = 224\n",
        "TRIAL_RANGE = range(0, 224)\n",
        "cueing_fase = range(1250,1750)\n",
        "\n",
        "for s in SUBJECTS:\n",
        "  if s == 'sub-02' or s == 'sub-07' or s == 'sub-36':\n",
        "    continue\n",
        "  else:\n",
        "    curr_subj = (SUBJECTS_FOLDER + '/' + s + \"/ProcessedData/data_ica.mat\")\n",
        "    mat = scipy.io.loadmat(curr_subj)\n",
        "    trial = mat['trial']\n",
        "    trialinfo = mat['trialinfo']\n",
        "    trial = np.transpose(np.squeeze(trial))\n",
        "    trials = []\n",
        "    labels = []\n",
        "    trials_norm = []\n",
        "    for i, t in enumerate(trial):\n",
        "      trials.append(t[ :NUM_CHANNELS, cueing_fase])\n",
        "      labels.append(trialinfo[i, 5]-1)\n",
        "\n",
        "    trials = list(signal.decimate(np.transpose(trials, [0, 2, 1]), 4, axis = 1))\n",
        "\n",
        "    #for tr in TRIAL_RANGE:\n",
        "      #trials_norm.append(_normalize_trial(trials[tr]))\n",
        "\n",
        "    train_data, train_labels, test_data, test_labels, val_data, val_labels = split_subjs(trials, labels)\n",
        "\n",
        "    train_data_flatt, test_data_flatt, val_data_flatt = flatten(train_data, test_data, val_data)\n",
        "    ml_classification(train_data_flatt, train_labels, test_data_flatt)\n",
        "\n"
      ],
      "metadata": {
        "id": "I0F2aecQCh5U"
      },
      "execution_count": null,
      "outputs": []
    },
    {
      "cell_type": "markdown",
      "source": [
        "**XGBoost Only**"
      ],
      "metadata": {
        "id": "6TU7Tq_jQdBF"
      }
    },
    {
      "cell_type": "code",
      "source": [
        "def xgboost_classification(train_data_flatt, train_labels, test_data_flatt):\n",
        "\n",
        "    xgb_clf = GradientBoostingClassifier(n_estimators = 100, learning_rate = 0.0001, max_depth = 3, random_state = 0)\n",
        "\n",
        "    xgb_clf.fit(train_data_flatt, train_labels)\n",
        "\n",
        "    y_pred_xgb = xgb_clf.predict(test_data_flatt)\n",
        "\n",
        "    print('XGBoost of ' + s + ': ', metrics.accuracy_score(test_labels, y_pred_xgb))\n",
        "    print('---------------------------------------------------------------')"
      ],
      "metadata": {
        "id": "ej7BhxhnQoAP"
      },
      "execution_count": null,
      "outputs": []
    },
    {
      "cell_type": "code",
      "source": [
        "NUM_CHANNELS = 29\n",
        "NUM_TRIAL = 224\n",
        "TRIAL_RANGE = range(0, 224)\n",
        "cueing_fase = range(1250,1750)\n",
        "\n",
        "for s in SUBJECTS:\n",
        "  if s == 'sub-02' or s == 'sub-07' or s == 'sub-36':\n",
        "    continue\n",
        "  else:\n",
        "    curr_subj = (SUBJECTS_FOLDER + '/' + s + \"/ProcessedData/data_ica.mat\")\n",
        "    mat = scipy.io.loadmat(curr_subj)\n",
        "    trial = mat['trial']\n",
        "    trialinfo = mat['trialinfo']\n",
        "    trial = np.transpose(np.squeeze(trial))\n",
        "    trials = []\n",
        "    labels = []\n",
        "    trials_norm = []\n",
        "    for i, t in enumerate(trial):\n",
        "      trials.append(t[ :NUM_CHANNELS, cueing_fase])\n",
        "      labels.append(trialinfo[i, 5]-1)\n",
        "\n",
        "    trials = list(signal.decimate(np.transpose(trials, [0, 2, 1]), 4, axis = 1))\n",
        "\n",
        "    #for tr in TRIAL_RANGE:\n",
        "      #trials_norm.append(_normalize_trial(trials[tr]))\n",
        "\n",
        "    train_data, train_labels, test_data, test_labels, val_data, val_labels = split_subjs(trials, labels)\n",
        "\n",
        "    train_data_flatt, test_data_flatt, val_data_flatt = flatten(train_data, test_data, val_data)\n",
        "    xgboost_classification(train_data_flatt, train_labels, test_data_flatt)"
      ],
      "metadata": {
        "colab": {
          "base_uri": "https://localhost:8080/"
        },
        "id": "9n0C8WtOQaQk",
        "outputId": "46745b76-7877-4d15-bf3f-568a4a105d5f"
      },
      "execution_count": null,
      "outputs": [
        {
          "output_type": "stream",
          "name": "stdout",
          "text": [
            "XGBoost of sub-01:  0.5681818181818182\n",
            "---------------------------------------------------------------\n",
            "XGBoost of sub-03:  0.6136363636363636\n",
            "---------------------------------------------------------------\n",
            "XGBoost of sub-04:  0.4772727272727273\n",
            "---------------------------------------------------------------\n",
            "XGBoost of sub-05:  0.5681818181818182\n",
            "---------------------------------------------------------------\n",
            "XGBoost of sub-06:  0.5681818181818182\n",
            "---------------------------------------------------------------\n",
            "XGBoost of sub-09:  0.6363636363636364\n",
            "---------------------------------------------------------------\n",
            "XGBoost of sub-10:  0.5909090909090909\n",
            "---------------------------------------------------------------\n",
            "XGBoost of sub-11:  0.5909090909090909\n",
            "---------------------------------------------------------------\n",
            "XGBoost of sub-12:  0.5454545454545454\n",
            "---------------------------------------------------------------\n",
            "XGBoost of sub-13:  0.5227272727272727\n",
            "---------------------------------------------------------------\n",
            "XGBoost of sub-14:  0.7272727272727273\n",
            "---------------------------------------------------------------\n",
            "XGBoost of sub-15:  0.5681818181818182\n",
            "---------------------------------------------------------------\n",
            "XGBoost of sub-16:  0.4090909090909091\n",
            "---------------------------------------------------------------\n",
            "XGBoost of sub-17:  0.4772727272727273\n",
            "---------------------------------------------------------------\n",
            "XGBoost of sub-18:  0.6136363636363636\n",
            "---------------------------------------------------------------\n",
            "XGBoost of sub-19:  0.5909090909090909\n",
            "---------------------------------------------------------------\n",
            "XGBoost of sub-20:  0.7045454545454546\n",
            "---------------------------------------------------------------\n",
            "XGBoost of sub-21:  0.4772727272727273\n",
            "---------------------------------------------------------------\n",
            "XGBoost of sub-22:  0.5681818181818182\n",
            "---------------------------------------------------------------\n",
            "XGBoost of sub-23:  0.5454545454545454\n",
            "---------------------------------------------------------------\n",
            "XGBoost of sub-24:  0.6818181818181818\n",
            "---------------------------------------------------------------\n",
            "XGBoost of sub-25:  0.5\n",
            "---------------------------------------------------------------\n",
            "XGBoost of sub-26:  0.4772727272727273\n",
            "---------------------------------------------------------------\n",
            "XGBoost of sub-27:  0.5227272727272727\n",
            "---------------------------------------------------------------\n",
            "XGBoost of sub-28:  0.75\n",
            "---------------------------------------------------------------\n",
            "XGBoost of sub-29:  0.5909090909090909\n",
            "---------------------------------------------------------------\n",
            "XGBoost of sub-30:  0.6363636363636364\n",
            "---------------------------------------------------------------\n",
            "XGBoost of sub-31:  0.7045454545454546\n",
            "---------------------------------------------------------------\n",
            "XGBoost of sub-32:  0.6136363636363636\n",
            "---------------------------------------------------------------\n",
            "XGBoost of sub-33:  0.5454545454545454\n",
            "---------------------------------------------------------------\n",
            "XGBoost of sub-34:  0.5681818181818182\n",
            "---------------------------------------------------------------\n",
            "XGBoost of sub-35:  0.5909090909090909\n",
            "---------------------------------------------------------------\n",
            "XGBoost of sub-37:  0.5909090909090909\n",
            "---------------------------------------------------------------\n",
            "XGBoost of sub-38:  0.5227272727272727\n",
            "---------------------------------------------------------------\n",
            "XGBoost of sub-39:  0.5227272727272727\n",
            "---------------------------------------------------------------\n",
            "XGBoost of sub-40:  0.5\n",
            "---------------------------------------------------------------\n",
            "XGBoost of sub-41:  0.5227272727272727\n",
            "---------------------------------------------------------------\n",
            "XGBoost of sub-43:  0.5681818181818182\n",
            "---------------------------------------------------------------\n",
            "XGBoost of sub-44:  0.5909090909090909\n",
            "---------------------------------------------------------------\n",
            "XGBoost of sub-45:  0.45454545454545453\n",
            "---------------------------------------------------------------\n",
            "XGBoost of sub-46:  0.5227272727272727\n",
            "---------------------------------------------------------------\n",
            "XGBoost of sub-48:  0.4090909090909091\n",
            "---------------------------------------------------------------\n",
            "XGBoost of sub-49:  0.5227272727272727\n",
            "---------------------------------------------------------------\n",
            "XGBoost of sub-50:  0.5909090909090909\n",
            "---------------------------------------------------------------\n"
          ]
        }
      ]
    },
    {
      "cell_type": "code",
      "source": [
        "print(f'Train Imbalance: ', train_labels.count(1)/len(train_labels))\n",
        "print(f'Test Imbalance: ', test_labels.count(1)/len(test_labels))\n",
        "print(f'Val Imbalance: ', val_labels.count(1)/len(val_labels))"
      ],
      "metadata": {
        "id": "B7jfv-b_W_iA"
      },
      "execution_count": null,
      "outputs": []
    },
    {
      "cell_type": "code",
      "source": [
        "\n",
        "\n",
        "# Model Accuracy: how often is the classifier correct?\n",
        "print(\"SVM: \", metrics.accuracy_score(test_labels, y_pred_svm))\n",
        "print(\"RandomForest: \", metrics.accuracy_score(test_labels, y_pred_rf))\n"
      ],
      "metadata": {
        "colab": {
          "base_uri": "https://localhost:8080/"
        },
        "id": "3adz0EMgxsxZ",
        "outputId": "481f39b6-a966-4e61-b715-da3e088db470"
      },
      "execution_count": null,
      "outputs": [
        {
          "output_type": "stream",
          "name": "stdout",
          "text": [
            "SVM:  0.7727272727272727\n",
            "RandomForest:  0.8181818181818182\n",
            "KNN:  0.5\n"
          ]
        }
      ]
    },
    {
      "cell_type": "code",
      "execution_count": null,
      "metadata": {
        "id": "cuXE50K8mVD8"
      },
      "outputs": [],
      "source": [
        "train_dataset = EEG_dataset(train_data, train_labels)\n",
        "val_dataset = EEG_dataset(val_data, val_labels)\n",
        "test_dataset = EEG_dataset(test_data, test_labels)\n",
        "\n",
        "#print(next(iter(train_dataset)))\n",
        "#print(next(iter(val_dataset)))\n",
        "#print(next(iter(test_dataset)))"
      ]
    },
    {
      "cell_type": "code",
      "source": [
        "print(np.shape(train_dataset))"
      ],
      "metadata": {
        "colab": {
          "base_uri": "https://localhost:8080/"
        },
        "id": "FXCP7rqZm1n5",
        "outputId": "5c6c454f-1e0c-4db0-b77a-c382b15f6c3e"
      },
      "execution_count": null,
      "outputs": [
        {
          "output_type": "stream",
          "name": "stdout",
          "text": [
            "(158, 2)\n"
          ]
        },
        {
          "output_type": "stream",
          "name": "stderr",
          "text": [
            "/usr/local/lib/python3.7/dist-packages/numpy/core/fromnumeric.py:1970: VisibleDeprecationWarning: Creating an ndarray from ragged nested sequences (which is a list-or-tuple of lists-or-tuples-or ndarrays with different lengths or shapes) is deprecated. If you meant to do this, you must specify 'dtype=object' when creating the ndarray.\n",
            "  result = asarray(a).shape\n"
          ]
        }
      ]
    },
    {
      "cell_type": "code",
      "execution_count": null,
      "metadata": {
        "id": "gdEUmidemVD9"
      },
      "outputs": [],
      "source": [
        "train_loader = torch.utils.data.DataLoader(train_dataset, batch_size = 1, shuffle=True)\n",
        "val_loader = torch.utils.data.DataLoader(val_dataset, batch_size = 1, shuffle=True)\n",
        "test_loader = torch.utils.data.DataLoader(test_dataset, batch_size = 1, shuffle=True)"
      ]
    },
    {
      "cell_type": "code",
      "execution_count": null,
      "metadata": {
        "colab": {
          "base_uri": "https://localhost:8080/"
        },
        "outputId": "42fec8ef-55b8-46cc-f9a4-2ea04c156e73",
        "id": "qWmtlXScmVD-"
      },
      "outputs": [
        {
          "output_type": "stream",
          "name": "stdout",
          "text": [
            "<class 'list'>\n",
            "Train batch type:  <class 'torch.Tensor'>\n",
            "Test batch type:  <class 'torch.Tensor'>\n",
            "Val batch type:  <class 'torch.Tensor'>\n",
            "torch.Size([1, 125, 29])\n",
            "torch.Size([1, 1, 125, 29])\n"
          ]
        }
      ],
      "source": [
        "train_batch = next(iter(train_loader))\n",
        "test_batch = next(iter(test_loader))\n",
        "val_batch = next(iter(val_loader))\n",
        "#print(train_batch)\n",
        "print(type(train_batch))\n",
        "print(f'Train batch type: ', type(train_batch[0]))\n",
        "print(f'Test batch type: ', type(test_batch[0]))\n",
        "print(f'Val batch type: ', type(val_batch[0]))\n",
        "print(train_batch[0].shape)\n",
        "train_batch[0] = torch.unsqueeze(train_batch[0], 0)\n",
        "print(train_batch[0].shape)"
      ]
    },
    {
      "cell_type": "code",
      "execution_count": null,
      "metadata": {
        "id": "ZrA6L47wmVD-"
      },
      "outputs": [],
      "source": [
        "def set_device():\n",
        "  if torch.cuda.is_available():\n",
        "    dev = \"cuda:0\"\n",
        "  else:\n",
        "    dev = \"cpu\"\n",
        "  return torch.device(dev)"
      ]
    },
    {
      "cell_type": "markdown",
      "source": [
        "# Wavelet"
      ],
      "metadata": {
        "id": "W6GCL04N3pgZ"
      }
    },
    {
      "cell_type": "code",
      "source": [
        "for t in range(NUM_TRIAL):\n",
        "  trials[t], scales = cwt(trials[t], wavelet = 'morlet')\n",
        "  trials[t] = abs(trials[t])"
      ],
      "metadata": {
        "id": "8ZxWWD78XilA"
      },
      "execution_count": null,
      "outputs": []
    },
    {
      "cell_type": "code",
      "source": [
        "print(f'Shape Trials[0]: ', trials[0].shape)\n",
        "print()\n",
        "#print(f'Trials Modulato: ',trials[0])\n",
        "\n",
        "print(type(scales))\n",
        "print(scales.shape)\n",
        "print(scales)\n",
        "\n",
        "#print(trials[0][253])\n",
        "#print(type(trials[0]))\n",
        "#print(type(scales))"
      ],
      "metadata": {
        "id": "ZxQ7I4BBayZ_",
        "colab": {
          "base_uri": "https://localhost:8080/"
        },
        "outputId": "c9c07d7f-a510-4f70-92f5-ca258e04de2a"
      },
      "execution_count": null,
      "outputs": [
        {
          "output_type": "stream",
          "name": "stdout",
          "text": [
            "Shape Trials[0]:  (254, 3625)\n",
            "\n",
            "<class 'numpy.ndarray'>\n",
            "(254,)\n",
            "[3.83041310e+00 3.91428828e+00 4.00000000e+00 4.08758879e+00\n",
            " 4.17709494e+00 4.26856184e+00 4.36203098e+00 4.45754719e+00\n",
            " 4.55515432e+00 4.65489960e+00 4.75682831e+00 4.86098957e+00\n",
            " 4.96743107e+00 5.07620382e+00 5.18735838e+00 5.30094671e+00\n",
            " 5.41702223e+00 5.53563976e+00 5.65685415e+00 5.78072309e+00\n",
            " 5.90730476e+00 6.03665781e+00 6.16884327e+00 6.30392361e+00\n",
            " 6.44196129e+00 6.58302212e+00 6.72717142e+00 6.87447739e+00\n",
            " 7.02500868e+00 7.17883635e+00 7.33603239e+00 7.49667072e+00\n",
            " 7.66082621e+00 7.82857656e+00 8.00000000e+00 8.17517757e+00\n",
            " 8.35418987e+00 8.53712368e+00 8.72406197e+00 8.91509438e+00\n",
            " 9.11030865e+00 9.30979919e+00 9.51365662e+00 9.72197914e+00\n",
            " 9.93486214e+00 1.01524076e+01 1.03747168e+01 1.06018934e+01\n",
            " 1.08340445e+01 1.10712795e+01 1.13137083e+01 1.15614462e+01\n",
            " 1.18146095e+01 1.20733156e+01 1.23376865e+01 1.26078472e+01\n",
            " 1.28839226e+01 1.31660442e+01 1.34543428e+01 1.37489548e+01\n",
            " 1.40500174e+01 1.43576727e+01 1.46720648e+01 1.49933414e+01\n",
            " 1.53216524e+01 1.56571531e+01 1.60000000e+01 1.63503551e+01\n",
            " 1.67083797e+01 1.70742474e+01 1.74481239e+01 1.78301888e+01\n",
            " 1.82206173e+01 1.86195984e+01 1.90273132e+01 1.94439583e+01\n",
            " 1.98697243e+01 2.03048153e+01 2.07494335e+01 2.12037868e+01\n",
            " 2.16680889e+01 2.21425591e+01 2.26274166e+01 2.31228924e+01\n",
            " 2.36292191e+01 2.41466312e+01 2.46753731e+01 2.52156944e+01\n",
            " 2.57678452e+01 2.63320885e+01 2.69086857e+01 2.74979095e+01\n",
            " 2.81000347e+01 2.87153454e+01 2.93441296e+01 2.99866829e+01\n",
            " 3.06433048e+01 3.13143063e+01 3.20000000e+01 3.27007103e+01\n",
            " 3.34167595e+01 3.41484947e+01 3.48962479e+01 3.56603775e+01\n",
            " 3.64412346e+01 3.72391968e+01 3.80546265e+01 3.88879166e+01\n",
            " 3.97394485e+01 4.06096306e+01 4.14988670e+01 4.24075737e+01\n",
            " 4.33361778e+01 4.42851181e+01 4.52548332e+01 4.62457848e+01\n",
            " 4.72584381e+01 4.82932625e+01 4.93507462e+01 5.04313889e+01\n",
            " 5.15356903e+01 5.26641769e+01 5.38173714e+01 5.49958191e+01\n",
            " 5.62000694e+01 5.74306908e+01 5.86882591e+01 5.99733658e+01\n",
            " 6.12866096e+01 6.26286125e+01 6.40000000e+01 6.54014206e+01\n",
            " 6.68335190e+01 6.82969894e+01 6.97924957e+01 7.13207550e+01\n",
            " 7.28824692e+01 7.44783936e+01 7.61092529e+01 7.77758331e+01\n",
            " 7.94788971e+01 8.12192612e+01 8.29977341e+01 8.48151474e+01\n",
            " 8.66723557e+01 8.85702362e+01 9.05096664e+01 9.24915695e+01\n",
            " 9.45168762e+01 9.65865250e+01 9.87014923e+01 1.00862778e+02\n",
            " 1.03071381e+02 1.05328354e+02 1.07634743e+02 1.09991638e+02\n",
            " 1.12400139e+02 1.14861382e+02 1.17376518e+02 1.19946732e+02\n",
            " 1.22573219e+02 1.25257225e+02 1.28000000e+02 1.30802841e+02\n",
            " 1.33667038e+02 1.36593979e+02 1.39584991e+02 1.42641510e+02\n",
            " 1.45764938e+02 1.48956787e+02 1.52218506e+02 1.55551666e+02\n",
            " 1.58957794e+02 1.62438522e+02 1.65995468e+02 1.69630295e+02\n",
            " 1.73344711e+02 1.77140472e+02 1.81019333e+02 1.84983139e+02\n",
            " 1.89033752e+02 1.93173050e+02 1.97402985e+02 2.01725555e+02\n",
            " 2.06142761e+02 2.10656708e+02 2.15269485e+02 2.19983276e+02\n",
            " 2.24800278e+02 2.29722763e+02 2.34753036e+02 2.39893463e+02\n",
            " 2.45146439e+02 2.50514450e+02 2.56000000e+02 2.61605682e+02\n",
            " 2.67334076e+02 2.73187958e+02 2.79169983e+02 2.85283020e+02\n",
            " 2.91529877e+02 2.97913574e+02 3.04437012e+02 3.11103333e+02\n",
            " 3.17915588e+02 3.24877045e+02 3.31990936e+02 3.39260590e+02\n",
            " 3.46689423e+02 3.54280945e+02 3.62038666e+02 3.69966278e+02\n",
            " 3.78067505e+02 3.86346100e+02 3.94805969e+02 4.03451111e+02\n",
            " 4.12285522e+02 4.21313416e+02 4.30538971e+02 4.39966553e+02\n",
            " 4.79786926e+02 5.23211365e+02 5.70566040e+02 6.22206665e+02\n",
            " 6.78521179e+02 7.39932556e+02 8.06902222e+02 8.79933105e+02\n",
            " 9.59573853e+02 1.04642273e+03 1.14113208e+03 1.24441333e+03\n",
            " 1.35704236e+03 1.47986511e+03 1.61380444e+03 1.75986621e+03\n",
            " 1.91914771e+03 2.09284546e+03 2.28226416e+03 2.48882666e+03\n",
            " 2.71408472e+03 2.95973022e+03 3.22760889e+03 3.51973242e+03\n",
            " 3.83829541e+03 4.18569092e+03 4.56452832e+03 4.97765332e+03\n",
            " 5.42816943e+03 5.91946045e+03 6.45521777e+03 7.03946484e+03\n",
            " 7.67659082e+03 8.37138184e+03]\n"
          ]
        }
      ]
    },
    {
      "cell_type": "code",
      "source": [
        "plot(trials[1])"
      ],
      "metadata": {
        "colab": {
          "base_uri": "https://localhost:8080/",
          "height": 300
        },
        "id": "-Lv-FmsVh4sI",
        "outputId": "5cf47fcf-f25e-4a33-9567-0e39f0d3a09c"
      },
      "execution_count": null,
      "outputs": [
        {
          "output_type": "stream",
          "name": "stderr",
          "text": [
            "/usr/local/lib/python3.7/dist-packages/matplotlib/cbook/__init__.py:1317: ComplexWarning: Casting complex values to real discards the imaginary part\n",
            "  return np.asarray(x, float)\n"
          ]
        },
        {
          "output_type": "display_data",
          "data": {
            "text/plain": [
              "<Figure size 432x288 with 1 Axes>"
            ],
            "image/png": "[encoded data removed]"
          },
          "metadata": {
            "needs_background": "light"
          }
        }
      ]
    },
    {
      "cell_type": "code",
      "source": [
        "plt.imshow(abs(trials[0]))"
      ],
      "metadata": {
        "colab": {
          "base_uri": "https://localhost:8080/",
          "height": 92
        },
        "id": "ZgNZPzxyHVDx",
        "outputId": "a448a60a-2c1a-4586-fb01-c08d806b464a"
      },
      "execution_count": null,
      "outputs": [
        {
          "output_type": "execute_result",
          "data": {
            "text/plain": [
              "<matplotlib.image.AxesImage at 0x7f7e7b777c50>"
            ]
          },
          "metadata": {},
          "execution_count": 18
        },
        {
          "output_type": "display_data",
          "data": {
            "text/plain": [
              "<Figure size 432x288 with 1 Axes>"
            ],
            "image/png": "[encoded data removed]"
          },
          "metadata": {
            "needs_background": "light"
          }
        }
      ]
    },
    {
      "cell_type": "code",
      "source": [
        "cmap = plt.cm.jet\n",
        "plt.imshow(trials[0], aspect='auto', cmap='jet')"
      ],
      "metadata": {
        "colab": {
          "base_uri": "https://localhost:8080/",
          "height": 286
        },
        "id": "ciCxSV-aZ0Au",
        "outputId": "e7b6fa14-adc1-4b31-b23e-4528ec992d47"
      },
      "execution_count": null,
      "outputs": [
        {
          "output_type": "execute_result",
          "data": {
            "text/plain": [
              "<matplotlib.image.AxesImage at 0x7f969590d750>"
            ]
          },
          "metadata": {},
          "execution_count": 11
        },
        {
          "output_type": "display_data",
          "data": {
            "text/plain": [
              "<Figure size 432x288 with 1 Axes>"
            ],
            "image/png": "[encoded data removed]"
          },
          "metadata": {
            "needs_background": "light"
          }
        }
      ]
    },
    {
      "cell_type": "code",
      "source": [
        "plt.plot(trials[0])"
      ],
      "metadata": {
        "id": "scTIWW3mZy8K"
      },
      "execution_count": null,
      "outputs": []
    },
    {
      "cell_type": "code",
      "source": [
        "cmap = plt.cm.jet\n",
        "#trials[1] = abs(trials[1])"
      ],
      "metadata": {
        "id": "dQnEDotVc0MP"
      },
      "execution_count": null,
      "outputs": []
    },
    {
      "cell_type": "code",
      "source": [
        "print(f'{trials[0]}')"
      ],
      "metadata": {
        "id": "6jvGY6fJgsDS"
      },
      "execution_count": null,
      "outputs": []
    },
    {
      "cell_type": "code",
      "source": [
        "print(labels[112])\n",
        "print(labels[0])\n",
        "print(trials[0])"
      ],
      "metadata": {
        "id": "N78oS8WKtbss"
      },
      "execution_count": null,
      "outputs": []
    },
    {
      "cell_type": "markdown",
      "source": [
        "# Saving images in train, test, val"
      ],
      "metadata": {
        "id": "Dn0KciHF3jWw"
      }
    },
    {
      "cell_type": "markdown",
      "source": [
        "Subs Dispari"
      ],
      "metadata": {
        "id": "YcfouEDQ-K6a"
      }
    },
    {
      "cell_type": "code",
      "source": [
        "\n",
        "NONSOCIAL_RANGE = range(0,112)\n",
        "SOCIAL_RANGE = range(112,224)\n",
        "\n",
        "nonsoc_trials = []\n",
        "for nonsoc in NONSOCIAL_RANGE:\n",
        "  nonsoc_trials.append(trials[nonsoc])\n",
        "random.shuffle(nonsoc_trials)\n",
        "\n",
        "soc_trials = []\n",
        "for soc in SOCIAL_RANGE:\n",
        "  soc_trials.append(trials[soc])\n",
        "random.shuffle(soc_trials)\n",
        "\n",
        "trials = nonsoc_trials + soc_trials\n",
        "\n",
        "TRAIN_RANGE_NONS = range(0,79)\n",
        "TRAIN_RANGE_S = range(112,191)\n",
        "\n",
        "TEST_RANGE_NONS = range(79,101)\n",
        "TEST_RANGE_S = range(191,213)\n",
        "\n",
        "VAL_RANGE_NONS = range(101,112)\n",
        "VAL_RANGE_S = range(213,224)\n"
      ],
      "metadata": {
        "id": "DG5Hrghtw397"
      },
      "execution_count": null,
      "outputs": []
    },
    {
      "cell_type": "markdown",
      "source": [
        "Subs Pari"
      ],
      "metadata": {
        "id": "cCidlpob-NuH"
      }
    },
    {
      "cell_type": "code",
      "source": [
        "\n",
        "SOCIAL_RANGE = range(0,112)\n",
        "NONSOCIAL_RANGE = range(112,224)\n",
        "\n",
        "soc_trials = []\n",
        "for soc in SOCIAL_RANGE:\n",
        "  soc_trials.append(trials[soc])\n",
        "random.shuffle(soc_trials)\n",
        "\n",
        "nonsoc_trials = []\n",
        "for nonsoc in NONSOCIAL_RANGE:\n",
        "  nonsoc_trials.append(trials[nonsoc])\n",
        "random.shuffle(nonsoc_trials)\n",
        "\n",
        "trials = soc_trials + nonsoc_trials\n",
        "\n",
        "TRAIN_RANGE_S = range(0,79)\n",
        "TRAIN_RANGE_NONS = range(112,191)\n",
        "\n",
        "TEST_RANGE_S = range(79,101)\n",
        "TEST_RANGE_NONS = range(191,213)\n",
        "\n",
        "VAL_RANGE_S = range(101,112)\n",
        "VAL_RANGE_NONS = range(213,224)\n"
      ],
      "metadata": {
        "id": "RwP2WSUl7ugo"
      },
      "execution_count": null,
      "outputs": []
    },
    {
      "cell_type": "markdown",
      "source": [
        "Single Subject\n"
      ],
      "metadata": {
        "id": "4a-dXHOd1Ho2"
      }
    },
    {
      "cell_type": "code",
      "source": [
        "for tns in TRAIN_RANGE_NONS:\n",
        "    plt.imsave('/content/drive/MyDrive/Tirocinio/Datasets/SocialMemoryImgs/Wavelet_Abs_Plt_Jet/sub33/train/nonsocial/trials_sub33_[' + str(tns) + '].png', trials[tns], cmap=cmap)\n",
        "\n",
        "for ts in TRAIN_RANGE_S:\n",
        "    plt.imsave('/content/drive/MyDrive/Tirocinio/Datasets/SocialMemoryImgs/Wavelet_Abs_Plt_Jet/sub33/train/social/trials_sub33_[' + str(ts) + '].png', trials[ts], cmap=cmap)\n",
        "\n",
        "for tens in TEST_RANGE_NONS:\n",
        "    plt.imsave('/content/drive/MyDrive/Tirocinio/Datasets/SocialMemoryImgs/Wavelet_Abs_Plt_Jet/sub33/test/nonsocial/trials_sub33_[' + str(tens) + '].png', trials[tens], cmap=cmap)\n",
        "\n",
        "for tes in TEST_RANGE_S:\n",
        "    plt.imsave('/content/drive/MyDrive/Tirocinio/Datasets/SocialMemoryImgs/Wavelet_Abs_Plt_Jet/sub33/test/social/trials_sub33_[' + str(tes) + '].png', trials[tes], cmap=cmap)\n",
        "\n",
        "for vns in VAL_RANGE_NONS:\n",
        "    plt.imsave('/content/drive/MyDrive/Tirocinio/Datasets/SocialMemoryImgs/Wavelet_Abs_Plt_Jet/sub33/val/nonsocial/trials_sub33_[' + str(vns) + '].png', trials[vns], cmap=cmap)\n",
        "\n",
        "for vs in VAL_RANGE_S:\n",
        "    plt.imsave('/content/drive/MyDrive/Tirocinio/Datasets/SocialMemoryImgs/Wavelet_Abs_Plt_Jet/sub33/val/social/trials_sub33_[' + str(vs) + '].png', trials[vs], cmap=cmap)"
      ],
      "metadata": {
        "id": "DZ_jDfw3x6tb"
      },
      "execution_count": null,
      "outputs": []
    },
    {
      "cell_type": "markdown",
      "source": [
        "All Subjects\n"
      ],
      "metadata": {
        "id": "aKjm8cQtsJ3b"
      }
    },
    {
      "cell_type": "code",
      "source": [
        "for tns in TRAIN_RANGE_NONS:\n",
        "    plt.imsave('/content/drive/MyDrive/Tirocinio/Datasets/SocialMemoryImgs/Wavelet_Abs_Plt_Jet/subAll/train/nonsocial/trials_sub33_[' + str(tns) + '].png', trials[tns], cmap=cmap)\n",
        "\n",
        "for ts in TRAIN_RANGE_S:\n",
        "    plt.imsave('/content/drive/MyDrive/Tirocinio/Datasets/SocialMemoryImgs/Wavelet_Abs_Plt_Jet/subAll/train/social/trials_sub33_[' + str(ts) + '].png', trials[ts], cmap=cmap)\n",
        "\n",
        "for tens in TEST_RANGE_NONS:\n",
        "    plt.imsave('/content/drive/MyDrive/Tirocinio/Datasets/SocialMemoryImgs/Wavelet_Abs_Plt_Jet/subAll/test/nonsocial/trials_sub33_[' + str(tens) + '].png', trials[tens], cmap=cmap)\n",
        "\n",
        "for tes in TEST_RANGE_S:\n",
        "    plt.imsave('/content/drive/MyDrive/Tirocinio/Datasets/SocialMemoryImgs/Wavelet_Abs_Plt_Jet/subAll/test/social/trials_sub33_[' + str(tes) + '].png', trials[tes], cmap=cmap)\n",
        "\n",
        "for vns in VAL_RANGE_NONS:\n",
        "    plt.imsave('/content/drive/MyDrive/Tirocinio/Datasets/SocialMemoryImgs/Wavelet_Abs_Plt_Jet/subAll/val/nonsocial/trials_sub33_[' + str(vns) + '].png', trials[vns], cmap=cmap)\n",
        "\n",
        "for vs in VAL_RANGE_S:\n",
        "    plt.imsave('/content/drive/MyDrive/Tirocinio/Datasets/SocialMemoryImgs/Wavelet_Abs_Plt_Jet/subAll/val/social/trials_sub33_[' + str(vs) + '].png', trials[vs], cmap=cmap)"
      ],
      "metadata": {
        "id": "rJPOa4saq7g3"
      },
      "execution_count": null,
      "outputs": []
    },
    {
      "cell_type": "markdown",
      "source": [
        "# Checking number of files in train, test, val"
      ],
      "metadata": {
        "id": "maZJA2Yv3oBh"
      }
    },
    {
      "cell_type": "code",
      "source": [
        "# folder path\n",
        "train_nonsocial = '/content/drive/MyDrive/Tirocinio/Datasets/SocialMemoryImgs/Wavelet_Abs_Plt_Jet/subAll/train/nonsocial/'\n",
        "train_social = '/content/drive/MyDrive/Tirocinio/Datasets/SocialMemoryImgs/Wavelet_Abs_Plt_Jet/sub33/train/social/'\n",
        "test_nonsocial = '/content/drive/MyDrive/Tirocinio/Datasets/SocialMemoryImgs/Wavelet_Abs_Plt_Jet/sub33/test/nonsocial/'\n",
        "test_social = '/content/drive/MyDrive/Tirocinio/Datasets/SocialMemoryImgs/Wavelet_Abs_Plt_Jet/sub33/test/social/'\n",
        "val_nonsocial = '/content/drive/MyDrive/Tirocinio/Datasets/SocialMemoryImgs/Wavelet_Abs_Plt_Jet/sub33/val/nonsocial/'\n",
        "val_social = '/content/drive/MyDrive/Tirocinio/Datasets/SocialMemoryImgs/Wavelet_Abs_Plt_Jet/subAll/val/social/'\n",
        "\n",
        "num_of_files = 0\n",
        "# Iterate directory\n",
        "for path in os.listdir(train_nonsocial):\n",
        "    # check if current path is a file\n",
        "    if os.path.isfile(os.path.join(train_nonsocial, path)):\n",
        "        num_of_files += 1\n",
        "print('Train Non Social files', num_of_files)\n",
        "\n",
        "num_of_files = 0\n",
        "# Iterate directory\n",
        "for path in os.listdir(train_social):\n",
        "    # check if current path is a file\n",
        "    if os.path.isfile(os.path.join(train_social, path)):\n",
        "        num_of_files += 1\n",
        "print('Train Social files', num_of_files)\n",
        "\n",
        "num_of_files = 0\n",
        "# Iterate directory\n",
        "for path in os.listdir(test_nonsocial):\n",
        "    # check if current path is a file\n",
        "    if os.path.isfile(os.path.join(test_nonsocial, path)):\n",
        "        num_of_files += 1\n",
        "print('Test Non Social files', num_of_files)\n",
        "\n",
        "num_of_files = 0\n",
        "# Iterate directory\n",
        "for path in os.listdir(test_social):\n",
        "    # check if current path is a file\n",
        "    if os.path.isfile(os.path.join(test_social, path)):\n",
        "        num_of_files += 1\n",
        "print('Test Social files', num_of_files)\n",
        "\n",
        "num_of_files = 0\n",
        "# Iterate directory\n",
        "for path in os.listdir(val_nonsocial):\n",
        "    # check if current path is a file\n",
        "    if os.path.isfile(os.path.join(val_nonsocial, path)):\n",
        "        num_of_files += 1\n",
        "print('Val Non Social files', num_of_files)\n",
        "\n",
        "num_of_files = 0\n",
        "# Iterate directory\n",
        "for path in os.listdir(val_social):\n",
        "    # check if current path is a file\n",
        "    if os.path.isfile(os.path.join(val_social, path)):\n",
        "        num_of_files += 1\n",
        "print('Val Social files', num_of_files)"
      ],
      "metadata": {
        "colab": {
          "base_uri": "https://localhost:8080/"
        },
        "id": "0QNp4fEZ2yww",
        "outputId": "5dd2f661-5120-4f20-f129-9a4759866430"
      },
      "execution_count": null,
      "outputs": [
        {
          "output_type": "stream",
          "name": "stdout",
          "text": [
            "Train Non Social files 3476\n",
            "Train Social files 79\n",
            "Test Non Social files 22\n",
            "Test Social files 22\n",
            "Val Non Social files 11\n",
            "Val Social files 484\n"
          ]
        }
      ]
    },
    {
      "cell_type": "code",
      "source": [
        "for t in range(NUM_TRIAL):\n",
        "  if(labels[t] == 0):\n",
        "    plt.imsave('/content/drive/MyDrive/Tirocinio/Datasets/SocialMemoryImgs/Stick/trials[' + str(t) + '].png', trials[t], cmap=cmap)\n",
        "  elif(labels[t] == 1):\n",
        "    plt.imsave('/content/drive/MyDrive/Tirocinio/Datasets/SocialMemoryImgs/Avatar/trials[' + str(t) + '].png', trials[t], cmap=cmap)"
      ],
      "metadata": {
        "id": "3du__P8eZLol"
      },
      "execution_count": null,
      "outputs": []
    },
    {
      "cell_type": "code",
      "source": [
        "plt.savefig('/content/drive/MyDrive/Tirocinio/Datasets/SocialMemoryImgs/trial[0].png', trials[0])"
      ],
      "metadata": {
        "id": "f751-k5DalmJ"
      },
      "execution_count": null,
      "outputs": []
    },
    {
      "cell_type": "code",
      "source": [
        "plt.imshow(np.abs(trials[2]), aspect='auto', cmap='turbo')"
      ],
      "metadata": {
        "id": "V4mKckUUgqWg"
      },
      "execution_count": null,
      "outputs": []
    },
    {
      "cell_type": "code",
      "source": [
        "x = trials[2].real\n",
        "y = trials[2].imag\n",
        "plt.plot(x, y)"
      ],
      "metadata": {
        "id": "psCMCCHpkB1K"
      },
      "execution_count": null,
      "outputs": []
    },
    {
      "cell_type": "code",
      "source": [
        "print(trials[0].dtype)\n",
        "trials[0] = abs(trials[0])\n",
        "print(trials[0].dtype)"
      ],
      "metadata": {
        "colab": {
          "base_uri": "https://localhost:8080/"
        },
        "id": "v40GDiVOY20i",
        "outputId": "bc3b7a92-2013-4a03-997f-a785e0355302"
      },
      "execution_count": null,
      "outputs": [
        {
          "output_type": "stream",
          "name": "stdout",
          "text": [
            "complex64\n",
            "float32\n"
          ]
        }
      ]
    },
    {
      "cell_type": "code",
      "source": [
        "trials[1] = cv2.normalize(trials[1], dst=None, alpha=0, beta=255, norm_type=cv2.NORM_MINMAX, dtype=cv2.CV_8U)\n"
      ],
      "metadata": {
        "id": "yi6OxxXma1LW"
      },
      "execution_count": null,
      "outputs": []
    },
    {
      "cell_type": "code",
      "source": [
        "#trials[3] = np.clip(trials[3]*256,0, 255).astype(np.uint8)\n",
        "trials[1] = cv2.cvtColor(trials[1],cv2.COLOR_GRAY2RGB)"
      ],
      "metadata": {
        "id": "AeJXio6xptw_"
      },
      "execution_count": null,
      "outputs": []
    },
    {
      "cell_type": "code",
      "source": [
        "cv2.imwrite('/content/drive/MyDrive/Tirocinio/Datasets/SocialMemoryImgs/eli.png', abs(trials[0]))"
      ],
      "metadata": {
        "colab": {
          "base_uri": "https://localhost:8080/"
        },
        "id": "Ky7RQWRs8A0m",
        "outputId": "986be8e2-b9d3-4bc5-bcf8-a0392b4daec6"
      },
      "execution_count": null,
      "outputs": [
        {
          "output_type": "execute_result",
          "data": {
            "text/plain": [
              "True"
            ]
          },
          "metadata": {},
          "execution_count": 15
        }
      ]
    },
    {
      "cell_type": "code",
      "source": [
        "from PIL import Image, ImageDraw\n",
        "\n",
        "im = Image.open(trials[0]).convert('RGBA')\n",
        "iimg = '/content/drive/MyDrive/Tirocinio/Datasets/SocialMemoryImgs/' + trials[0] + '.png'\n",
        "# Save result\n",
        "im.save(iimg)"
      ],
      "metadata": {
        "colab": {
          "base_uri": "https://localhost:8080/",
          "height": 433
        },
        "id": "w-rEZUGkiIK8",
        "outputId": "7fd8ccbb-c1b9-4361-fc9f-eecb50b15657"
      },
      "execution_count": null,
      "outputs": [
        {
          "output_type": "error",
          "ename": "AttributeError",
          "evalue": "ignored",
          "traceback": [
            "\u001b[0;31m---------------------------------------------------------------------------\u001b[0m",
            "\u001b[0;31mAttributeError\u001b[0m                            Traceback (most recent call last)",
            "\u001b[0;32m/usr/local/lib/python3.7/dist-packages/PIL/Image.py\u001b[0m in \u001b[0;36mopen\u001b[0;34m(fp, mode)\u001b[0m\n\u001b[1;32m   2846\u001b[0m     \u001b[0;32mtry\u001b[0m\u001b[0;34m:\u001b[0m\u001b[0;34m\u001b[0m\u001b[0;34m\u001b[0m\u001b[0m\n\u001b[0;32m-> 2847\u001b[0;31m         \u001b[0mfp\u001b[0m\u001b[0;34m.\u001b[0m\u001b[0mseek\u001b[0m\u001b[0;34m(\u001b[0m\u001b[0;36m0\u001b[0m\u001b[0;34m)\u001b[0m\u001b[0;34m\u001b[0m\u001b[0;34m\u001b[0m\u001b[0m\n\u001b[0m\u001b[1;32m   2848\u001b[0m     \u001b[0;32mexcept\u001b[0m \u001b[0;34m(\u001b[0m\u001b[0mAttributeError\u001b[0m\u001b[0;34m,\u001b[0m \u001b[0mio\u001b[0m\u001b[0;34m.\u001b[0m\u001b[0mUnsupportedOperation\u001b[0m\u001b[0;34m)\u001b[0m\u001b[0;34m:\u001b[0m\u001b[0;34m\u001b[0m\u001b[0;34m\u001b[0m\u001b[0m\n",
            "\u001b[0;31mAttributeError\u001b[0m: 'numpy.ndarray' object has no attribute 'seek'",
            "\nDuring handling of the above exception, another exception occurred:\n",
            "\u001b[0;31mAttributeError\u001b[0m                            Traceback (most recent call last)",
            "\u001b[0;32m<ipython-input-35-e9cb0daf18af>\u001b[0m in \u001b[0;36m<module>\u001b[0;34m\u001b[0m\n\u001b[1;32m      1\u001b[0m \u001b[0;32mfrom\u001b[0m \u001b[0mPIL\u001b[0m \u001b[0;32mimport\u001b[0m \u001b[0mImage\u001b[0m\u001b[0;34m,\u001b[0m \u001b[0mImageDraw\u001b[0m\u001b[0;34m\u001b[0m\u001b[0;34m\u001b[0m\u001b[0m\n\u001b[1;32m      2\u001b[0m \u001b[0;34m\u001b[0m\u001b[0m\n\u001b[0;32m----> 3\u001b[0;31m \u001b[0mim\u001b[0m \u001b[0;34m=\u001b[0m \u001b[0mImage\u001b[0m\u001b[0;34m.\u001b[0m\u001b[0mopen\u001b[0m\u001b[0;34m(\u001b[0m\u001b[0mtrials\u001b[0m\u001b[0;34m[\u001b[0m\u001b[0;36m0\u001b[0m\u001b[0;34m]\u001b[0m\u001b[0;34m)\u001b[0m\u001b[0;34m.\u001b[0m\u001b[0mconvert\u001b[0m\u001b[0;34m(\u001b[0m\u001b[0;34m'RGBA'\u001b[0m\u001b[0;34m)\u001b[0m\u001b[0;34m\u001b[0m\u001b[0;34m\u001b[0m\u001b[0m\n\u001b[0m\u001b[1;32m      4\u001b[0m \u001b[0miimg\u001b[0m \u001b[0;34m=\u001b[0m \u001b[0;34m'/content/drive/MyDrive/Tirocinio/Datasets/SocialMemoryImgs/'\u001b[0m \u001b[0;34m+\u001b[0m \u001b[0mtrials\u001b[0m\u001b[0;34m[\u001b[0m\u001b[0;36m0\u001b[0m\u001b[0;34m]\u001b[0m \u001b[0;34m+\u001b[0m \u001b[0;34m'.png'\u001b[0m\u001b[0;34m\u001b[0m\u001b[0;34m\u001b[0m\u001b[0m\n\u001b[1;32m      5\u001b[0m \u001b[0;31m# Save result\u001b[0m\u001b[0;34m\u001b[0m\u001b[0;34m\u001b[0m\u001b[0;34m\u001b[0m\u001b[0m\n",
            "\u001b[0;32m/usr/local/lib/python3.7/dist-packages/PIL/Image.py\u001b[0m in \u001b[0;36mopen\u001b[0;34m(fp, mode)\u001b[0m\n\u001b[1;32m   2847\u001b[0m         \u001b[0mfp\u001b[0m\u001b[0;34m.\u001b[0m\u001b[0mseek\u001b[0m\u001b[0;34m(\u001b[0m\u001b[0;36m0\u001b[0m\u001b[0;34m)\u001b[0m\u001b[0;34m\u001b[0m\u001b[0;34m\u001b[0m\u001b[0m\n\u001b[1;32m   2848\u001b[0m     \u001b[0;32mexcept\u001b[0m \u001b[0;34m(\u001b[0m\u001b[0mAttributeError\u001b[0m\u001b[0;34m,\u001b[0m \u001b[0mio\u001b[0m\u001b[0;34m.\u001b[0m\u001b[0mUnsupportedOperation\u001b[0m\u001b[0;34m)\u001b[0m\u001b[0;34m:\u001b[0m\u001b[0;34m\u001b[0m\u001b[0;34m\u001b[0m\u001b[0m\n\u001b[0;32m-> 2849\u001b[0;31m         \u001b[0mfp\u001b[0m \u001b[0;34m=\u001b[0m \u001b[0mio\u001b[0m\u001b[0;34m.\u001b[0m\u001b[0mBytesIO\u001b[0m\u001b[0;34m(\u001b[0m\u001b[0mfp\u001b[0m\u001b[0;34m.\u001b[0m\u001b[0mread\u001b[0m\u001b[0;34m(\u001b[0m\u001b[0;34m)\u001b[0m\u001b[0;34m)\u001b[0m\u001b[0;34m\u001b[0m\u001b[0;34m\u001b[0m\u001b[0m\n\u001b[0m\u001b[1;32m   2850\u001b[0m         \u001b[0mexclusive_fp\u001b[0m \u001b[0;34m=\u001b[0m \u001b[0;32mTrue\u001b[0m\u001b[0;34m\u001b[0m\u001b[0;34m\u001b[0m\u001b[0m\n\u001b[1;32m   2851\u001b[0m \u001b[0;34m\u001b[0m\u001b[0m\n",
            "\u001b[0;31mAttributeError\u001b[0m: 'numpy.ndarray' object has no attribute 'read'"
          ]
        }
      ]
    },
    {
      "cell_type": "code",
      "source": [
        "a = np.array((1,2,3))\n",
        "b = np.array((4,5,6))\n",
        "m = [[[1,4,7],\n",
        "     [2,5,8],\n",
        "     [3,6,9],],\n",
        "     [[10,13,16],\n",
        "     [11,14,17],\n",
        "     [12,15,18]]]\n",
        "print(f'Matrix', m)\n",
        "\n",
        "for idx_trial in range(2):\n",
        "  new_col = []\n",
        "  for idx_val in range(3):\n",
        "    for idx,sub_list in enumerate(m[idx_trial]):\n",
        "        new_col.append(sub_list[idx_val])\n",
        "        print(f'M[] old: ',  m[idx_trial])\n",
        "  m[idx_trial] = new_col\n",
        "\n",
        "print(f'New_col', new_col)\n",
        "\n",
        "\n",
        "\n",
        "print(f'Enumerate: ',list(enumerate(m)))\n",
        "#print(np.vstack((m[0],m[1])))\n",
        "print(f'M[0] new: ',  m[0])\n",
        "print(f'M[1] new: ', m[1])\n",
        "#print(m)\n",
        "#print(m[0][0])"
      ],
      "metadata": {
        "id": "tJgDa_5ddbFr"
      },
      "execution_count": null,
      "outputs": []
    },
    {
      "cell_type": "markdown",
      "metadata": {
        "id": "OmCaqdnVeIQs"
      },
      "source": [
        "##**Normalizzazione**"
      ]
    },
    {
      "cell_type": "code",
      "execution_count": null,
      "metadata": {
        "id": "Iq7u3DzteGA_"
      },
      "outputs": [],
      "source": [
        "def _normalize_trial(trial):\n",
        "  trial_avg = np.mean(trial)\n",
        "  trial_std = np.std(trial)\n",
        "\n",
        "  trial = (trial - trial_avg)/trial_std\n",
        "  return trial"
      ]
    },
    {
      "cell_type": "markdown",
      "metadata": {
        "id": "XqByn23Tw2Nv"
      },
      "source": [
        "##**Dataset**"
      ]
    },
    {
      "cell_type": "code",
      "execution_count": null,
      "metadata": {
        "id": "upzl0Jm3w1XH"
      },
      "outputs": [],
      "source": [
        "class EEG_dataset(Dataset):\n",
        "\n",
        "    def __init__(self, trials, labels):\n",
        "        self.trials = trials\n",
        "        self.labels = labels\n",
        "        self._init_data()\n",
        "\n",
        "    def _init_data(self):\n",
        "        self.samples = []\n",
        "        for i, trial in enumerate(self.trials):\n",
        "            self.samples.append((trial, self.labels[i]))    \n",
        "    \n",
        "    def __len__(self):\n",
        "      return len(self.samples)\n",
        "\n",
        "    def __getitem__(self, idx):\n",
        "      '''\n",
        "      if self.labels[idx] == 3: #passive state\n",
        "        label = torch.tensor(1, dtype=torch.long)\n",
        "      else:\n",
        "        label = torch.tensor(0, dtype=torch.long)\n",
        "      '''\n",
        "      return torch.tensor(_normalize_trial(self.trials[idx])), torch.tensor(self.labels[idx], dtype=torch.long)"
      ]
    },
    {
      "cell_type": "code",
      "execution_count": null,
      "metadata": {
        "id": "OgPKbmJAzWc1"
      },
      "outputs": [],
      "source": [
        "from sklearn.model_selection import train_test_split\n",
        "\n",
        "seed = random.random()\n",
        "random.seed(seed)\n",
        "random.shuffle(trials)\n",
        "random.seed(seed)\n",
        "random.shuffle(labels)\n",
        "\n",
        "train_data, val_data, train_labels, val_labels = train_test_split(trials, labels, test_size=0.30, random_state=42)"
      ]
    },
    {
      "cell_type": "code",
      "execution_count": null,
      "metadata": {
        "id": "twcRSiw_zhXn"
      },
      "outputs": [],
      "source": [
        "train_dataset = EEG_dataset(train_data, train_labels)\n",
        "val_dataset = EEG_dataset(val_data, val_labels)"
      ]
    },
    {
      "cell_type": "code",
      "execution_count": null,
      "metadata": {
        "id": "zFLFTPxvChli"
      },
      "outputs": [],
      "source": [
        "train_loader = torch.utils.data.DataLoader(train_dataset, batch_size = 1, shuffle=True)\n",
        "val_loader = torch.utils.data.DataLoader(val_dataset, batch_size = 1, shuffle=True)\n",
        "#test_loader = torch.utils.data.DataLoader(test_dataset, batch_size = 32, shuffle=True)"
      ]
    },
    {
      "cell_type": "code",
      "execution_count": null,
      "metadata": {
        "colab": {
          "base_uri": "https://localhost:8080/"
        },
        "id": "5eYkdSaKzV7O",
        "outputId": "9f18c699-9de6-4da3-a16c-5d9c6724c244"
      },
      "outputs": [
        {
          "output_type": "stream",
          "name": "stdout",
          "text": [
            "<class 'list'>\n",
            "<class 'torch.Tensor'>\n",
            "torch.Size([1, 254, 3625])\n",
            "torch.Size([1, 1, 254, 3625])\n"
          ]
        }
      ],
      "source": [
        "train_batch = next(iter(train_loader))\n",
        "#print(train_batch)\n",
        "print(type(train_batch))\n",
        "print(type(train_batch[0]))\n",
        "print(train_batch[0].shape)\n",
        "train_batch[0] = torch.unsqueeze(train_batch[0], 0)\n",
        "print(train_batch[0].shape)"
      ]
    },
    {
      "cell_type": "code",
      "execution_count": null,
      "metadata": {
        "id": "uuN3wXUb5Xal"
      },
      "outputs": [],
      "source": [
        "def set_device():\n",
        "  if torch.cuda.is_available():\n",
        "    dev = \"cuda:0\"\n",
        "  else:\n",
        "    dev = \"cpu\"\n",
        "  return torch.device(dev)"
      ]
    },
    {
      "cell_type": "markdown",
      "metadata": {
        "id": "Rt30YSs14y3s"
      },
      "source": [
        "# **Training**"
      ]
    },
    {
      "cell_type": "code",
      "execution_count": null,
      "metadata": {
        "id": "2FYUOo9TzdlZ"
      },
      "outputs": [],
      "source": [
        "plot_train_acc = []\n",
        "plot_val_acc = []\n",
        "plot_train_loss = []\n",
        "\n",
        "def train_nn(model, train_loader, val_loader, criterion, optimizer, n_epochs):\n",
        "  device = set_device()\n",
        "  best_acc = 0\n",
        "\n",
        "  for epoch in range(n_epochs):\n",
        "    print(\"Epoch number %d\" %(epoch + 1))\n",
        "    model.train()\n",
        "    curr_loss = 0.0\n",
        "    curr_true = 0.0\n",
        "    total = 0\n",
        "    for batch in train_loader:\n",
        "      #print(type(batch))\n",
        "      trial, labels = batch\n",
        "      #print('Labels --->', labels)\n",
        "      #print('Labels type --->', type(labels))\n",
        "      #print('Prima cambio -->  ', images.dtype)\n",
        "      #images = images.type('torch.DoubleTensor') \n",
        "      #print('Dopo cambio -->  ', images.dtype)\n",
        "      #images = torch.tensor(images)\n",
        "      #labels = torch.tensor(labels)\n",
        "      #images = images.to(device)\n",
        "      #labels = labels.to(device)\n",
        "      total += labels.size(0) #perche anche se il batch è da 32 l'ultimo potrebbe essere più piccolo\n",
        "\n",
        "      optimizer.zero_grad()\n",
        "\n",
        "      #print('Shape trial prima di passarle al model', np.shape(trial))\n",
        "      #outputs = model(trial)\n",
        "      #print('Outputs prima --->', outputs)\n",
        "      outputs = model(trial.unsqueeze(1).float())\n",
        "      #print('Outputs prima--->', np.shape(outputs))\n",
        "      #print(type(outputs))\n",
        "\n",
        "      predicted = torch.round(outputs) #l'1 specifica il one dimension reduce\n",
        "\n",
        "\n",
        "      #print('Outputs -->', np.shape(outputs))\n",
        "      #print('Labels -->', np.shape(labels))\n",
        "      loss = criterion(outputs, labels.float())\n",
        "\n",
        "      loss.backward()\n",
        "        \n",
        "      optimizer.step()\n",
        "\n",
        "      curr_loss += loss.item()\n",
        "      curr_true += (labels==predicted).sum().item()\n",
        "\n",
        "    \n",
        "    epoch_loss = curr_loss/len(train_loader)\n",
        "    epoch_accuracy = (curr_true/total)*100\n",
        "    plot_train_acc.append(epoch_accuracy)\n",
        "    plot_train_loss.append(epoch_loss)\n",
        "    #scheduler.step()\n",
        "\n",
        "    print(\"   -- Training Dataset. Got %d out of %d trials correctly (%.3f%%). Epoch Loss: %.3f\" %(curr_true, total, epoch_accuracy, epoch_loss))\n",
        "\n",
        "    val_acc = evaluate_model_val(model, val_loader)\n",
        "    plot_val_acc.append(val_acc)\n",
        "\n",
        "\n",
        "    if(val_acc > best_acc):\n",
        "      best_acc = val_acc\n",
        "      save_checkpoint(model, epoch, optimizer, best_acc)\n",
        "      save_best_model(model)\n",
        "\n",
        "  print(\"\\n  -- Done!\")\n",
        "  return model\n"
      ]
    },
    {
      "cell_type": "code",
      "execution_count": null,
      "metadata": {
        "id": "EcoHyZn-5dHI"
      },
      "outputs": [],
      "source": [
        "def save_checkpoint(model, epoch, optimizer, best_acc):\n",
        "  state = {\n",
        "      'epoch': epoch + 1,\n",
        "      'model': model.state_dict(),\n",
        "      'best accuracy': best_acc,\n",
        "      'optimizer': optimizer.state_dict(),\n",
        "      'comments': 'DatasetMixClahe SGD lr 0.001'\n",
        "  }\n",
        "  torch.save(state, 'checkpoint.pth.tar')"
      ]
    },
    {
      "cell_type": "code",
      "execution_count": null,
      "metadata": {
        "id": "m1D2EBxM5eAJ"
      },
      "outputs": [],
      "source": [
        "def save_best_model(model):\n",
        "  torch.save(model, 'best_model.pth.tar')"
      ]
    },
    {
      "cell_type": "code",
      "execution_count": null,
      "metadata": {
        "id": "dMnNvcX95krI"
      },
      "outputs": [],
      "source": [
        "def evaluate_model_val(model, val_loader):\n",
        "  model.eval()\n",
        "  true_predicted_on_epoch = 0\n",
        "  total = 0\n",
        "  device = set_device()\n",
        "\n",
        "  with torch.no_grad(): #reduce memory usage and speed up the evaluation (no backpropagation che non si fa sul test)\n",
        "    for batch in val_loader:\n",
        "      trial, labels = batch\n",
        "      trial = trial.to(device)\n",
        "      labels = labels.to(device)\n",
        "      total += labels.size(0)\n",
        "\n",
        "      outputs = model(trial.unsqueeze(1).float())\n",
        "\n",
        "      predicted = torch.round(outputs)\n",
        "\n",
        "      true_predicted_on_epoch += (predicted==labels).sum().item()\n",
        "\n",
        "    epoch_accuracy = (true_predicted_on_epoch/total)*100\n",
        "\n",
        "    print(\"   -- Val Dataset. Got %d out of %d trials correctly (%.3f%%)\" %(true_predicted_on_epoch, total, epoch_accuracy))\n",
        "\n",
        "  return epoch_accuracy"
      ]
    },
    {
      "cell_type": "code",
      "execution_count": null,
      "metadata": {
        "id": "AR1FrhcuB-hz"
      },
      "outputs": [],
      "source": [
        "num_classes = 2\n",
        "NUM_CHANNELS = 29\n",
        "device = set_device()\n",
        "loss_fn = nn.BCELoss()"
      ]
    },
    {
      "cell_type": "code",
      "execution_count": null,
      "metadata": {
        "id": "yVUwGxAeM-ZN"
      },
      "outputs": [],
      "source": [
        "from torch.nn.modules import dropout\n",
        "class OurNet(nn.Module):\n",
        "\n",
        "    def __init__(self):\n",
        "        super(OurNet, self).__init__()\n",
        "        torch.manual_seed(42)\n",
        "\n",
        "\n",
        "        self.conv = nn.Conv2d(in_channels = 1, out_channels = 6, kernel_size = (3, 3), stride = 4);\n",
        "        self.pool = nn.MaxPool2d(kernel_size = 3, stride = None, padding = 0);\n",
        "        self.batch = nn.BatchNorm1d(num_features = 8);\n",
        "        self.act_f = nn.Hardshrink();\n",
        "        #self.act_f = nn.GELU();\n",
        "        self.drop = nn.Dropout(p = 0.4)\n",
        "        self.lin = nn.Linear(in_features = 144, out_features = 320);\n",
        "        self.drop1 = nn.Dropout(p = 0.3);\n",
        "        #self.lstm = nn.LSTM(input_size = 128, hidden_size = 250)\n",
        "        self.lstm = nn.GRU(input_size = 320, hidden_size = 350)\n",
        "\n",
        "        self.lastlayer = nn.Linear(in_features = 350, out_features = 1);\n",
        "\n",
        "    def forward(self, x):\n",
        "        hidden = self.conv(x);\n",
        "        print('Dopo conv --> ', hidden.size())\n",
        "        #hidden = hidden.view(hidden.size()[0], -1)\n",
        "        #hidden = torch.squeeze(hidden, dim = -1)\n",
        "        print('Dopo squeeze --> ', hidden.size())\n",
        "        hidden = self.pool(hidden)\n",
        "        #print('Dopo MaxPool1D --> ', hidden.size())\n",
        "        hidden = self.batch(hidden)\n",
        "        #print('Dopo Batch --> ', hidden.size())\n",
        "        hidden = self.act_f(hidden)\n",
        "        hidden = self.drop(hidden)\n",
        "        hidden = torch.flatten(hidden, start_dim = 1 , end_dim = -1)\n",
        "        #print('Dopo Flatten --> ', hidden.size())\n",
        "        hidden = self.lin(hidden)\n",
        "        #print('Dopo lin --> ', hidden.size())\n",
        "        hidden = self.drop1(hidden)\n",
        "        hidden,_ = self.lstm(hidden)\n",
        "        #print('Dopo LSTM --> ', np.shape(hidden))\n",
        "        out = self.lastlayer(hidden)\n",
        "        #print('Dopo ultimo Lin --> ',out.size())\n",
        "        out = torch.squeeze(out, dim = -1)\n",
        "        #print('Dopo squeeze --> ',out.size())\n",
        "        #print()\n",
        "        out = torch.sigmoid(out)\n",
        "\n",
        "        return out\n",
        "\n",
        "from torchvision import models\n",
        "from torchsummary import summary\n",
        "\n",
        "model = OurNet()\n",
        "#summary(model, (1, 207, 22))"
      ]
    },
    {
      "cell_type": "code",
      "source": [
        "summary(model,(1, 254, 3625))"
      ],
      "metadata": {
        "colab": {
          "base_uri": "https://localhost:8080/",
          "height": 346
        },
        "id": "AoIFDm1nRKr3",
        "outputId": "194eb45b-0cd3-4983-8fb9-b9b134d55245"
      },
      "execution_count": null,
      "outputs": [
        {
          "output_type": "stream",
          "name": "stdout",
          "text": [
            "Dopo conv -->  torch.Size([2, 6, 63, 906])\n",
            "Dopo squeeze -->  torch.Size([2, 6, 63, 906])\n"
          ]
        },
        {
          "output_type": "error",
          "ename": "ValueError",
          "evalue": "ignored",
          "traceback": [
            "\u001b[0;31m---------------------------------------------------------------------------\u001b[0m",
            "\u001b[0;31mValueError\u001b[0m                                Traceback (most recent call last)",
            "\u001b[0;32m<ipython-input-72-260263545e44>\u001b[0m in \u001b[0;36m<module>\u001b[0;34m\u001b[0m\n\u001b[0;32m----> 1\u001b[0;31m \u001b[0msummary\u001b[0m\u001b[0;34m(\u001b[0m\u001b[0mmodel\u001b[0m\u001b[0;34m,\u001b[0m\u001b[0;34m(\u001b[0m\u001b[0;36m1\u001b[0m\u001b[0;34m,\u001b[0m \u001b[0;36m254\u001b[0m\u001b[0;34m,\u001b[0m \u001b[0;36m3625\u001b[0m\u001b[0;34m)\u001b[0m\u001b[0;34m)\u001b[0m\u001b[0;34m\u001b[0m\u001b[0;34m\u001b[0m\u001b[0m\n\u001b[0m",
            "\u001b[0;32m/usr/local/lib/python3.7/dist-packages/torchsummary/torchsummary.py\u001b[0m in \u001b[0;36msummary\u001b[0;34m(model, input_size, batch_size, device)\u001b[0m\n\u001b[1;32m     70\u001b[0m     \u001b[0;31m# make a forward pass\u001b[0m\u001b[0;34m\u001b[0m\u001b[0;34m\u001b[0m\u001b[0;34m\u001b[0m\u001b[0m\n\u001b[1;32m     71\u001b[0m     \u001b[0;31m# print(x.shape)\u001b[0m\u001b[0;34m\u001b[0m\u001b[0;34m\u001b[0m\u001b[0;34m\u001b[0m\u001b[0m\n\u001b[0;32m---> 72\u001b[0;31m     \u001b[0mmodel\u001b[0m\u001b[0;34m(\u001b[0m\u001b[0;34m*\u001b[0m\u001b[0mx\u001b[0m\u001b[0;34m)\u001b[0m\u001b[0;34m\u001b[0m\u001b[0;34m\u001b[0m\u001b[0m\n\u001b[0m\u001b[1;32m     73\u001b[0m \u001b[0;34m\u001b[0m\u001b[0m\n\u001b[1;32m     74\u001b[0m     \u001b[0;31m# remove these hooks\u001b[0m\u001b[0;34m\u001b[0m\u001b[0;34m\u001b[0m\u001b[0;34m\u001b[0m\u001b[0m\n",
            "\u001b[0;32m/usr/local/lib/python3.7/dist-packages/torch/nn/modules/module.py\u001b[0m in \u001b[0;36m_call_impl\u001b[0;34m(self, *input, **kwargs)\u001b[0m\n\u001b[1;32m   1128\u001b[0m         if not (self._backward_hooks or self._forward_hooks or self._forward_pre_hooks or _global_backward_hooks\n\u001b[1;32m   1129\u001b[0m                 or _global_forward_hooks or _global_forward_pre_hooks):\n\u001b[0;32m-> 1130\u001b[0;31m             \u001b[0;32mreturn\u001b[0m \u001b[0mforward_call\u001b[0m\u001b[0;34m(\u001b[0m\u001b[0;34m*\u001b[0m\u001b[0minput\u001b[0m\u001b[0;34m,\u001b[0m \u001b[0;34m**\u001b[0m\u001b[0mkwargs\u001b[0m\u001b[0;34m)\u001b[0m\u001b[0;34m\u001b[0m\u001b[0;34m\u001b[0m\u001b[0m\n\u001b[0m\u001b[1;32m   1131\u001b[0m         \u001b[0;31m# Do not call functions when jit is used\u001b[0m\u001b[0;34m\u001b[0m\u001b[0;34m\u001b[0m\u001b[0;34m\u001b[0m\u001b[0m\n\u001b[1;32m   1132\u001b[0m         \u001b[0mfull_backward_hooks\u001b[0m\u001b[0;34m,\u001b[0m \u001b[0mnon_full_backward_hooks\u001b[0m \u001b[0;34m=\u001b[0m \u001b[0;34m[\u001b[0m\u001b[0;34m]\u001b[0m\u001b[0;34m,\u001b[0m \u001b[0;34m[\u001b[0m\u001b[0;34m]\u001b[0m\u001b[0;34m\u001b[0m\u001b[0;34m\u001b[0m\u001b[0m\n",
            "\u001b[0;32m<ipython-input-71-58caa37749b7>\u001b[0m in \u001b[0;36mforward\u001b[0;34m(self, x)\u001b[0m\n\u001b[1;32m     28\u001b[0m         \u001b[0mhidden\u001b[0m \u001b[0;34m=\u001b[0m \u001b[0mself\u001b[0m\u001b[0;34m.\u001b[0m\u001b[0mpool\u001b[0m\u001b[0;34m(\u001b[0m\u001b[0mhidden\u001b[0m\u001b[0;34m)\u001b[0m\u001b[0;34m\u001b[0m\u001b[0;34m\u001b[0m\u001b[0m\n\u001b[1;32m     29\u001b[0m         \u001b[0;31m#print('Dopo MaxPool1D --> ', hidden.size())\u001b[0m\u001b[0;34m\u001b[0m\u001b[0;34m\u001b[0m\u001b[0;34m\u001b[0m\u001b[0m\n\u001b[0;32m---> 30\u001b[0;31m         \u001b[0mhidden\u001b[0m \u001b[0;34m=\u001b[0m \u001b[0mself\u001b[0m\u001b[0;34m.\u001b[0m\u001b[0mbatch\u001b[0m\u001b[0;34m(\u001b[0m\u001b[0mhidden\u001b[0m\u001b[0;34m)\u001b[0m\u001b[0;34m\u001b[0m\u001b[0;34m\u001b[0m\u001b[0m\n\u001b[0m\u001b[1;32m     31\u001b[0m         \u001b[0;31m#print('Dopo Batch --> ', hidden.size())\u001b[0m\u001b[0;34m\u001b[0m\u001b[0;34m\u001b[0m\u001b[0;34m\u001b[0m\u001b[0m\n\u001b[1;32m     32\u001b[0m         \u001b[0mhidden\u001b[0m \u001b[0;34m=\u001b[0m \u001b[0mself\u001b[0m\u001b[0;34m.\u001b[0m\u001b[0mact_f\u001b[0m\u001b[0;34m(\u001b[0m\u001b[0mhidden\u001b[0m\u001b[0;34m)\u001b[0m\u001b[0;34m\u001b[0m\u001b[0;34m\u001b[0m\u001b[0m\n",
            "\u001b[0;32m/usr/local/lib/python3.7/dist-packages/torch/nn/modules/module.py\u001b[0m in \u001b[0;36m_call_impl\u001b[0;34m(self, *input, **kwargs)\u001b[0m\n\u001b[1;32m   1146\u001b[0m             \u001b[0minput\u001b[0m \u001b[0;34m=\u001b[0m \u001b[0mbw_hook\u001b[0m\u001b[0;34m.\u001b[0m\u001b[0msetup_input_hook\u001b[0m\u001b[0;34m(\u001b[0m\u001b[0minput\u001b[0m\u001b[0;34m)\u001b[0m\u001b[0;34m\u001b[0m\u001b[0;34m\u001b[0m\u001b[0m\n\u001b[1;32m   1147\u001b[0m \u001b[0;34m\u001b[0m\u001b[0m\n\u001b[0;32m-> 1148\u001b[0;31m         \u001b[0mresult\u001b[0m \u001b[0;34m=\u001b[0m \u001b[0mforward_call\u001b[0m\u001b[0;34m(\u001b[0m\u001b[0;34m*\u001b[0m\u001b[0minput\u001b[0m\u001b[0;34m,\u001b[0m \u001b[0;34m**\u001b[0m\u001b[0mkwargs\u001b[0m\u001b[0;34m)\u001b[0m\u001b[0;34m\u001b[0m\u001b[0;34m\u001b[0m\u001b[0m\n\u001b[0m\u001b[1;32m   1149\u001b[0m         \u001b[0;32mif\u001b[0m \u001b[0m_global_forward_hooks\u001b[0m \u001b[0;32mor\u001b[0m \u001b[0mself\u001b[0m\u001b[0;34m.\u001b[0m\u001b[0m_forward_hooks\u001b[0m\u001b[0;34m:\u001b[0m\u001b[0;34m\u001b[0m\u001b[0;34m\u001b[0m\u001b[0m\n\u001b[1;32m   1150\u001b[0m             \u001b[0;32mfor\u001b[0m \u001b[0mhook\u001b[0m \u001b[0;32min\u001b[0m \u001b[0;34m(\u001b[0m\u001b[0;34m*\u001b[0m\u001b[0m_global_forward_hooks\u001b[0m\u001b[0;34m.\u001b[0m\u001b[0mvalues\u001b[0m\u001b[0;34m(\u001b[0m\u001b[0;34m)\u001b[0m\u001b[0;34m,\u001b[0m \u001b[0;34m*\u001b[0m\u001b[0mself\u001b[0m\u001b[0;34m.\u001b[0m\u001b[0m_forward_hooks\u001b[0m\u001b[0;34m.\u001b[0m\u001b[0mvalues\u001b[0m\u001b[0;34m(\u001b[0m\u001b[0;34m)\u001b[0m\u001b[0;34m)\u001b[0m\u001b[0;34m:\u001b[0m\u001b[0;34m\u001b[0m\u001b[0;34m\u001b[0m\u001b[0m\n",
            "\u001b[0;32m/usr/local/lib/python3.7/dist-packages/torch/nn/modules/batchnorm.py\u001b[0m in \u001b[0;36mforward\u001b[0;34m(self, input)\u001b[0m\n\u001b[1;32m    133\u001b[0m \u001b[0;34m\u001b[0m\u001b[0m\n\u001b[1;32m    134\u001b[0m     \u001b[0;32mdef\u001b[0m \u001b[0mforward\u001b[0m\u001b[0;34m(\u001b[0m\u001b[0mself\u001b[0m\u001b[0;34m,\u001b[0m \u001b[0minput\u001b[0m\u001b[0;34m:\u001b[0m \u001b[0mTensor\u001b[0m\u001b[0;34m)\u001b[0m \u001b[0;34m->\u001b[0m \u001b[0mTensor\u001b[0m\u001b[0;34m:\u001b[0m\u001b[0;34m\u001b[0m\u001b[0;34m\u001b[0m\u001b[0m\n\u001b[0;32m--> 135\u001b[0;31m         \u001b[0mself\u001b[0m\u001b[0;34m.\u001b[0m\u001b[0m_check_input_dim\u001b[0m\u001b[0;34m(\u001b[0m\u001b[0minput\u001b[0m\u001b[0;34m)\u001b[0m\u001b[0;34m\u001b[0m\u001b[0;34m\u001b[0m\u001b[0m\n\u001b[0m\u001b[1;32m    136\u001b[0m \u001b[0;34m\u001b[0m\u001b[0m\n\u001b[1;32m    137\u001b[0m         \u001b[0;31m# exponential_average_factor is set to self.momentum\u001b[0m\u001b[0;34m\u001b[0m\u001b[0;34m\u001b[0m\u001b[0;34m\u001b[0m\u001b[0m\n",
            "\u001b[0;32m/usr/local/lib/python3.7/dist-packages/torch/nn/modules/batchnorm.py\u001b[0m in \u001b[0;36m_check_input_dim\u001b[0;34m(self, input)\u001b[0m\n\u001b[1;32m    297\u001b[0m         \u001b[0;32mif\u001b[0m \u001b[0minput\u001b[0m\u001b[0;34m.\u001b[0m\u001b[0mdim\u001b[0m\u001b[0;34m(\u001b[0m\u001b[0;34m)\u001b[0m \u001b[0;34m!=\u001b[0m \u001b[0;36m2\u001b[0m \u001b[0;32mand\u001b[0m \u001b[0minput\u001b[0m\u001b[0;34m.\u001b[0m\u001b[0mdim\u001b[0m\u001b[0;34m(\u001b[0m\u001b[0;34m)\u001b[0m \u001b[0;34m!=\u001b[0m \u001b[0;36m3\u001b[0m\u001b[0;34m:\u001b[0m\u001b[0;34m\u001b[0m\u001b[0;34m\u001b[0m\u001b[0m\n\u001b[1;32m    298\u001b[0m             raise ValueError(\n\u001b[0;32m--> 299\u001b[0;31m                 \u001b[0;34m\"expected 2D or 3D input (got {}D input)\"\u001b[0m\u001b[0;34m.\u001b[0m\u001b[0mformat\u001b[0m\u001b[0;34m(\u001b[0m\u001b[0minput\u001b[0m\u001b[0;34m.\u001b[0m\u001b[0mdim\u001b[0m\u001b[0;34m(\u001b[0m\u001b[0;34m)\u001b[0m\u001b[0;34m)\u001b[0m\u001b[0;34m\u001b[0m\u001b[0;34m\u001b[0m\u001b[0m\n\u001b[0m\u001b[1;32m    300\u001b[0m             )\n\u001b[1;32m    301\u001b[0m \u001b[0;34m\u001b[0m\u001b[0m\n",
            "\u001b[0;31mValueError\u001b[0m: expected 2D or 3D input (got 4D input)"
          ]
        }
      ]
    },
    {
      "cell_type": "code",
      "execution_count": null,
      "metadata": {
        "id": "iLeF_xxj1Oby"
      },
      "outputs": [],
      "source": [
        "class Net2(nn.Module):\n",
        "\n",
        "    def __init__(self):\n",
        "        super(Net2, self).__init__()\n",
        "        torch.manual_seed(42)\n",
        "\n",
        "        # Replace last layer\n",
        "        self.conv = nn.Conv2d(in_channels = 1, out_channels = 6, kernel_size = (3,3), stride = 4);\n",
        "        self.pool = nn.MaxPool2d(kernel_size=3, stride=None, padding=0)\n",
        "        self.lin =  nn.Linear(in_features = 302, out_features = 252); #252x302\n",
        "        self.act_f = nn.ReLU();\n",
        "        self.drop = nn.Dropout(0.6);\n",
        "        self.batch = nn.BatchNorm2d(6);\n",
        "        self.lin1 = nn.Linear(in_features = 252,out_features = 14);\n",
        "        #self.conv1 = nn.Conv2d(1,6, kernel_size=(16,NUM_CHANNELS), stride = 2);\n",
        "        self.act_f1 = nn.ReLU();\n",
        "        self.drop1 = nn.Dropout(0.6);\n",
        "        self.batch1 = nn.BatchNorm2d(6);\n",
        "        self.out = nn.Linear(in_features = 14,out_features = 1);\n",
        "    \n",
        "    def forward(self, x):\n",
        "        hidden = self.conv(x);\n",
        "        print('Dopo conv --> ',hidden.size())\n",
        "        print('Dopo conv[0] --> ',hidden.size()[0])\n",
        "        #hidden = hidden.view(hidden.size()[0], -1)\n",
        "        #print('Dopo view --> ',hidden.size())\n",
        "        hidden = self.pool(hidden)\n",
        "        print('Dopo Pool --> ',hidden.size())\n",
        "        hidden = self.lin(hidden);\n",
        "        print('Dopo linear --> ',hidden.size())\n",
        "        hidden = self.act_f(hidden);\n",
        "        print('Dopo ReLU --> ',hidden.size())\n",
        "        hidden = self.drop(hidden);\n",
        "        hidden = self.batch(hidden);\n",
        "        hidden = self.lin1(hidden);\n",
        "        print('Dopo Lin1 --> ',hidden.size())\n",
        "        #hidden = self.conv1(x);\n",
        "        #print('Dopo Conv1 --> ',hidden.size())\n",
        "        hidden = self.act_f1(hidden);\n",
        "        hidden = self.drop1(hidden);\n",
        "        hidden = self.batch1(hidden);\n",
        "        out = self.out(hidden)\n",
        "        print('Dopo ultimo Lin --> ', out.size())\n",
        "        out = torch.squeeze(out, dim = 1)\n",
        "        print('Dopo squeeze --> ', out.size())\n",
        "        out = torch.sigmoid(out)\n",
        "\n",
        "        return out\n",
        "\n",
        "from torchvision import models\n",
        "from torchsummary import summary\n",
        "\n",
        "model = Net2()\n",
        "#summary(model, (1, 207, 22))"
      ]
    },
    {
      "cell_type": "code",
      "source": [
        "summary(model,(1, 254, 3625))"
      ],
      "metadata": {
        "colab": {
          "base_uri": "https://localhost:8080/"
        },
        "id": "CJ5baurvYw3h",
        "outputId": "da570de2-adcd-47f8-a42e-a56011dc4282"
      },
      "execution_count": null,
      "outputs": [
        {
          "output_type": "stream",
          "name": "stdout",
          "text": [
            "Dopo conv -->  torch.Size([2, 6, 63, 906])\n",
            "Dopo conv[0] -->  2\n",
            "Dopo Pool -->  torch.Size([2, 6, 21, 302])\n",
            "Dopo linear -->  torch.Size([2, 6, 21, 252])\n",
            "Dopo ReLU -->  torch.Size([2, 6, 21, 252])\n",
            "Dopo Lin1 -->  torch.Size([2, 6, 21, 14])\n",
            "Dopo ultimo Lin -->  torch.Size([2, 6, 21, 1])\n",
            "Dopo squeeze -->  torch.Size([2, 6, 21, 1])\n",
            "----------------------------------------------------------------\n",
            "        Layer (type)               Output Shape         Param #\n",
            "================================================================\n",
            "            Conv2d-1           [-1, 6, 63, 906]              60\n",
            "         MaxPool2d-2           [-1, 6, 21, 302]               0\n",
            "            Linear-3           [-1, 6, 21, 252]          76,356\n",
            "              ReLU-4           [-1, 6, 21, 252]               0\n",
            "           Dropout-5           [-1, 6, 21, 252]               0\n",
            "       BatchNorm2d-6           [-1, 6, 21, 252]              12\n",
            "            Linear-7            [-1, 6, 21, 14]           3,542\n",
            "              ReLU-8            [-1, 6, 21, 14]               0\n",
            "           Dropout-9            [-1, 6, 21, 14]               0\n",
            "      BatchNorm2d-10            [-1, 6, 21, 14]              12\n",
            "           Linear-11             [-1, 6, 21, 1]              15\n",
            "================================================================\n",
            "Total params: 79,997\n",
            "Trainable params: 79,997\n",
            "Non-trainable params: 0\n",
            "----------------------------------------------------------------\n",
            "Input size (MB): 3.51\n",
            "Forward/backward pass size (MB): 3.93\n",
            "Params size (MB): 0.31\n",
            "Estimated Total Size (MB): 7.74\n",
            "----------------------------------------------------------------\n"
          ]
        }
      ]
    },
    {
      "cell_type": "markdown",
      "source": [
        "# Pre-Trained"
      ],
      "metadata": {
        "id": "wSscDp_0ktz4"
      }
    },
    {
      "cell_type": "code",
      "source": [
        "model = models.resnet50(pretrained=True)\n",
        "num_features = model.fc.in_features\n",
        "num_classes = 2\n",
        "model.fc = nn.Linear(num_features, num_classes)\n",
        "device = set_device()\n",
        "model = model.to(device)\n",
        "loss_fn = nn.CrossEntropyLoss()"
      ],
      "metadata": {
        "colab": {
          "base_uri": "https://localhost:8080/",
          "height": 156,
          "referenced_widgets": [
            "c5ddda7f324e401f84dccfaf323e14cc",
            "6a497add40054e7cb454bbce8b2270a3",
            "e54873946bed41028f385f3c9502cf69",
            "e1f1e6b48b4e4a288276733729d598e1",
            "700fdd6ed65146638fa160b1c88cf83b",
            "578cb8d40f98453c96be46031e55251e",
            "399b0beb3e284581a559236b5a010acf",
            "5c78a3f0d08c440ab417cbd5480558d2",
            "5649a825779f44fabef6d202bca15ac2",
            "d90608b2255b4fc884b13befc181a86f",
            "aff57a95395d4b4ab55b6c7f9d659548"
          ]
        },
        "id": "-_1SJYuokxCc",
        "outputId": "8f072ee6-800c-423d-d2ec-685b6d6651a1"
      },
      "execution_count": null,
      "outputs": [
        {
          "output_type": "stream",
          "name": "stderr",
          "text": [
            "/usr/local/lib/python3.7/dist-packages/torchvision/models/_utils.py:209: UserWarning: The parameter 'pretrained' is deprecated since 0.13 and will be removed in 0.15, please use 'weights' instead.\n",
            "  f\"The parameter '{pretrained_param}' is deprecated since 0.13 and will be removed in 0.15, \"\n",
            "/usr/local/lib/python3.7/dist-packages/torchvision/models/_utils.py:223: UserWarning: Arguments other than a weight enum or `None` for 'weights' are deprecated since 0.13 and will be removed in 0.15. The current behavior is equivalent to passing `weights=ResNet50_Weights.IMAGENET1K_V1`. You can also use `weights=ResNet50_Weights.DEFAULT` to get the most up-to-date weights.\n",
            "  warnings.warn(msg)\n",
            "Downloading: \"https://download.pytorch.org/models/resnet50-0676ba61.pth\" to /root/.cache/torch/hub/checkpoints/resnet50-0676ba61.pth\n"
          ]
        },
        {
          "output_type": "display_data",
          "data": {
            "text/plain": [
              "  0%|          | 0.00/97.8M [00:00<?, ?B/s]"
            ],
            "application/vnd.jupyter.widget-view+json": {
              "version_major": 2,
              "version_minor": 0,
              "model_id": "c5ddda7f324e401f84dccfaf323e14cc"
            }
          },
          "metadata": {}
        }
      ]
    },
    {
      "cell_type": "code",
      "source": [
        "class PreNet(nn.Module):\n",
        "\n",
        "    def __init__(self):\n",
        "        super().__init__()\n",
        "\n",
        "        # ResNet50\n",
        "        self.network = model\n",
        "        \n",
        "        # Replace last layer\n",
        "        self.network._fc = nn.Sequential(nn.Conv2d(2048,512,(3, 3)),\n",
        "                                         nn.Linear(512, 128), \n",
        "                                         nn.ReLU(),\n",
        "                                         nn.Dropout(0.4),\n",
        "                                         nn.BatchNorm2d(128),\n",
        "                                         nn.Linear(128, 32), \n",
        "                                         nn.ReLU(),  \n",
        "                                         nn.Dropout(0.4),\n",
        "                                         nn.BatchNorm2d(32),\n",
        "                                         nn.Linear(32,num_classes))\n",
        "    \n",
        "    def forward(self, x):\n",
        "        out = self.network(x)\n",
        "        return out\n",
        "\n",
        "model = PreNet()"
      ],
      "metadata": {
        "id": "fZSghq72k51n"
      },
      "execution_count": null,
      "outputs": []
    },
    {
      "cell_type": "code",
      "execution_count": null,
      "metadata": {
        "id": "dhncnQT_yGWg"
      },
      "outputs": [],
      "source": [
        "optimizer = optim.SGD(model.parameters(), lr=0.001, momentum=0.9, weight_decay=0.003, dampening=0.1)\n",
        "scheduler = StepLR(optimizer, step_size=20, gamma=0.5)"
      ]
    },
    {
      "cell_type": "code",
      "execution_count": null,
      "metadata": {
        "id": "9pCR807OtRCo"
      },
      "outputs": [],
      "source": [
        "optimizer = optim.Rprop(model.parameters(), lr=0.001)"
      ]
    },
    {
      "cell_type": "code",
      "execution_count": null,
      "metadata": {
        "id": "5Gngow3CCSTx",
        "colab": {
          "base_uri": "https://localhost:8080/",
          "height": 502
        },
        "outputId": "b1f6b433-464f-4eef-dae1-cfb8dbc3882e"
      },
      "outputs": [
        {
          "output_type": "stream",
          "name": "stdout",
          "text": [
            "Epoch number 1\n",
            "Dopo conv -->  torch.Size([1, 6, 63, 906])\n",
            "Dopo conv[0] -->  1\n",
            "Dopo Pool -->  torch.Size([1, 6, 21, 302])\n",
            "Dopo linear -->  torch.Size([1, 6, 21, 252])\n",
            "Dopo ReLU -->  torch.Size([1, 6, 21, 252])\n",
            "Dopo Lin1 -->  torch.Size([1, 6, 21, 14])\n",
            "Dopo ultimo Lin -->  torch.Size([1, 6, 21, 1])\n",
            "Dopo squeeze -->  torch.Size([1, 6, 21, 1])\n"
          ]
        },
        {
          "output_type": "error",
          "ename": "ValueError",
          "evalue": "ignored",
          "traceback": [
            "\u001b[0;31m---------------------------------------------------------------------------\u001b[0m",
            "\u001b[0;31mValueError\u001b[0m                                Traceback (most recent call last)",
            "\u001b[0;32m<ipython-input-85-b93fb730d65f>\u001b[0m in \u001b[0;36m<module>\u001b[0;34m\u001b[0m\n\u001b[1;32m      1\u001b[0m \u001b[0mmodel\u001b[0m \u001b[0;34m=\u001b[0m \u001b[0mNet2\u001b[0m\u001b[0;34m(\u001b[0m\u001b[0;34m)\u001b[0m\u001b[0;34m\u001b[0m\u001b[0;34m\u001b[0m\u001b[0m\n\u001b[0;32m----> 2\u001b[0;31m \u001b[0mtrain_nn\u001b[0m\u001b[0;34m(\u001b[0m\u001b[0mmodel\u001b[0m\u001b[0;34m,\u001b[0m \u001b[0mtrain_loader\u001b[0m\u001b[0;34m,\u001b[0m \u001b[0mval_loader\u001b[0m\u001b[0;34m,\u001b[0m \u001b[0mloss_fn\u001b[0m\u001b[0;34m,\u001b[0m \u001b[0moptimizer\u001b[0m\u001b[0;34m,\u001b[0m \u001b[0;36m50\u001b[0m\u001b[0;34m)\u001b[0m\u001b[0;34m\u001b[0m\u001b[0;34m\u001b[0m\u001b[0m\n\u001b[0m",
            "\u001b[0;32m<ipython-input-77-06d73d1ee301>\u001b[0m in \u001b[0;36mtrain_nn\u001b[0;34m(model, train_loader, val_loader, criterion, optimizer, n_epochs)\u001b[0m\n\u001b[1;32m     41\u001b[0m       \u001b[0;31m#print('Outputs -->', np.shape(outputs))\u001b[0m\u001b[0;34m\u001b[0m\u001b[0;34m\u001b[0m\u001b[0;34m\u001b[0m\u001b[0m\n\u001b[1;32m     42\u001b[0m       \u001b[0;31m#print('Labels -->', np.shape(labels))\u001b[0m\u001b[0;34m\u001b[0m\u001b[0;34m\u001b[0m\u001b[0;34m\u001b[0m\u001b[0m\n\u001b[0;32m---> 43\u001b[0;31m       \u001b[0mloss\u001b[0m \u001b[0;34m=\u001b[0m \u001b[0mcriterion\u001b[0m\u001b[0;34m(\u001b[0m\u001b[0moutputs\u001b[0m\u001b[0;34m,\u001b[0m \u001b[0mlabels\u001b[0m\u001b[0;34m.\u001b[0m\u001b[0mfloat\u001b[0m\u001b[0;34m(\u001b[0m\u001b[0;34m)\u001b[0m\u001b[0;34m)\u001b[0m\u001b[0;34m\u001b[0m\u001b[0;34m\u001b[0m\u001b[0m\n\u001b[0m\u001b[1;32m     44\u001b[0m \u001b[0;34m\u001b[0m\u001b[0m\n\u001b[1;32m     45\u001b[0m       \u001b[0mloss\u001b[0m\u001b[0;34m.\u001b[0m\u001b[0mbackward\u001b[0m\u001b[0;34m(\u001b[0m\u001b[0;34m)\u001b[0m\u001b[0;34m\u001b[0m\u001b[0;34m\u001b[0m\u001b[0m\n",
            "\u001b[0;32m/usr/local/lib/python3.7/dist-packages/torch/nn/modules/module.py\u001b[0m in \u001b[0;36m_call_impl\u001b[0;34m(self, *input, **kwargs)\u001b[0m\n\u001b[1;32m   1128\u001b[0m         if not (self._backward_hooks or self._forward_hooks or self._forward_pre_hooks or _global_backward_hooks\n\u001b[1;32m   1129\u001b[0m                 or _global_forward_hooks or _global_forward_pre_hooks):\n\u001b[0;32m-> 1130\u001b[0;31m             \u001b[0;32mreturn\u001b[0m \u001b[0mforward_call\u001b[0m\u001b[0;34m(\u001b[0m\u001b[0;34m*\u001b[0m\u001b[0minput\u001b[0m\u001b[0;34m,\u001b[0m \u001b[0;34m**\u001b[0m\u001b[0mkwargs\u001b[0m\u001b[0;34m)\u001b[0m\u001b[0;34m\u001b[0m\u001b[0;34m\u001b[0m\u001b[0m\n\u001b[0m\u001b[1;32m   1131\u001b[0m         \u001b[0;31m# Do not call functions when jit is used\u001b[0m\u001b[0;34m\u001b[0m\u001b[0;34m\u001b[0m\u001b[0;34m\u001b[0m\u001b[0m\n\u001b[1;32m   1132\u001b[0m         \u001b[0mfull_backward_hooks\u001b[0m\u001b[0;34m,\u001b[0m \u001b[0mnon_full_backward_hooks\u001b[0m \u001b[0;34m=\u001b[0m \u001b[0;34m[\u001b[0m\u001b[0;34m]\u001b[0m\u001b[0;34m,\u001b[0m \u001b[0;34m[\u001b[0m\u001b[0;34m]\u001b[0m\u001b[0;34m\u001b[0m\u001b[0;34m\u001b[0m\u001b[0m\n",
            "\u001b[0;32m/usr/local/lib/python3.7/dist-packages/torch/nn/modules/loss.py\u001b[0m in \u001b[0;36mforward\u001b[0;34m(self, input, target)\u001b[0m\n\u001b[1;32m    611\u001b[0m \u001b[0;34m\u001b[0m\u001b[0m\n\u001b[1;32m    612\u001b[0m     \u001b[0;32mdef\u001b[0m \u001b[0mforward\u001b[0m\u001b[0;34m(\u001b[0m\u001b[0mself\u001b[0m\u001b[0;34m,\u001b[0m \u001b[0minput\u001b[0m\u001b[0;34m:\u001b[0m \u001b[0mTensor\u001b[0m\u001b[0;34m,\u001b[0m \u001b[0mtarget\u001b[0m\u001b[0;34m:\u001b[0m \u001b[0mTensor\u001b[0m\u001b[0;34m)\u001b[0m \u001b[0;34m->\u001b[0m \u001b[0mTensor\u001b[0m\u001b[0;34m:\u001b[0m\u001b[0;34m\u001b[0m\u001b[0;34m\u001b[0m\u001b[0m\n\u001b[0;32m--> 613\u001b[0;31m         \u001b[0;32mreturn\u001b[0m \u001b[0mF\u001b[0m\u001b[0;34m.\u001b[0m\u001b[0mbinary_cross_entropy\u001b[0m\u001b[0;34m(\u001b[0m\u001b[0minput\u001b[0m\u001b[0;34m,\u001b[0m \u001b[0mtarget\u001b[0m\u001b[0;34m,\u001b[0m \u001b[0mweight\u001b[0m\u001b[0;34m=\u001b[0m\u001b[0mself\u001b[0m\u001b[0;34m.\u001b[0m\u001b[0mweight\u001b[0m\u001b[0;34m,\u001b[0m \u001b[0mreduction\u001b[0m\u001b[0;34m=\u001b[0m\u001b[0mself\u001b[0m\u001b[0;34m.\u001b[0m\u001b[0mreduction\u001b[0m\u001b[0;34m)\u001b[0m\u001b[0;34m\u001b[0m\u001b[0;34m\u001b[0m\u001b[0m\n\u001b[0m\u001b[1;32m    614\u001b[0m \u001b[0;34m\u001b[0m\u001b[0m\n\u001b[1;32m    615\u001b[0m \u001b[0;34m\u001b[0m\u001b[0m\n",
            "\u001b[0;32m/usr/local/lib/python3.7/dist-packages/torch/nn/functional.py\u001b[0m in \u001b[0;36mbinary_cross_entropy\u001b[0;34m(input, target, weight, size_average, reduce, reduction)\u001b[0m\n\u001b[1;32m   3074\u001b[0m         raise ValueError(\n\u001b[1;32m   3075\u001b[0m             \u001b[0;34m\"Using a target size ({}) that is different to the input size ({}) is deprecated. \"\u001b[0m\u001b[0;34m\u001b[0m\u001b[0;34m\u001b[0m\u001b[0m\n\u001b[0;32m-> 3076\u001b[0;31m             \u001b[0;34m\"Please ensure they have the same size.\"\u001b[0m\u001b[0;34m.\u001b[0m\u001b[0mformat\u001b[0m\u001b[0;34m(\u001b[0m\u001b[0mtarget\u001b[0m\u001b[0;34m.\u001b[0m\u001b[0msize\u001b[0m\u001b[0;34m(\u001b[0m\u001b[0;34m)\u001b[0m\u001b[0;34m,\u001b[0m \u001b[0minput\u001b[0m\u001b[0;34m.\u001b[0m\u001b[0msize\u001b[0m\u001b[0;34m(\u001b[0m\u001b[0;34m)\u001b[0m\u001b[0;34m)\u001b[0m\u001b[0;34m\u001b[0m\u001b[0;34m\u001b[0m\u001b[0m\n\u001b[0m\u001b[1;32m   3077\u001b[0m         )\n\u001b[1;32m   3078\u001b[0m \u001b[0;34m\u001b[0m\u001b[0m\n",
            "\u001b[0;31mValueError\u001b[0m: Using a target size (torch.Size([1])) that is different to the input size (torch.Size([1, 6, 21, 1])) is deprecated. Please ensure they have the same size."
          ]
        }
      ],
      "source": [
        "model = Net2()\n",
        "train_nn(model, train_loader, val_loader, loss_fn, optimizer, 50)"
      ]
    },
    {
      "cell_type": "code",
      "execution_count": null,
      "metadata": {
        "id": "SkKR5UozsC6f"
      },
      "outputs": [],
      "source": [
        "checkpoint = torch.load('checkpoint.pth.tar')"
      ]
    },
    {
      "cell_type": "code",
      "execution_count": null,
      "metadata": {
        "colab": {
          "base_uri": "https://localhost:8080/"
        },
        "id": "qPgMa6vksDkZ",
        "outputId": "110a7da7-8f11-4474-942d-0048fc617fa3"
      },
      "outputs": [
        {
          "output_type": "stream",
          "name": "stdout",
          "text": [
            "4\n",
            "48.529411764705884\n",
            "DatasetMixClahe SGD lr 0.001\n"
          ]
        }
      ],
      "source": [
        "print(checkpoint['epoch'])\n",
        "print(checkpoint['best accuracy'])\n",
        "print(checkpoint['comments'])"
      ]
    },
    {
      "cell_type": "code",
      "execution_count": null,
      "metadata": {
        "id": "M-S6rFhUsGuN"
      },
      "outputs": [],
      "source": [
        "best_model = torch.load('best_model.pth.tar')"
      ]
    },
    {
      "cell_type": "code",
      "execution_count": null,
      "metadata": {
        "id": "fQd2ElvssKQV"
      },
      "outputs": [],
      "source": [
        "all_pred = []\n",
        "all_true = []\n",
        "all_imgs = []\n",
        "\n",
        "def evaluate_model_test(best_model, test_loader):\n",
        "\n",
        "  best_model.eval()\n",
        "  true_predicted_on_epoch = 0\n",
        "  total = 0\n",
        "  device = set_device()\n",
        "  all_imgs = []\n",
        "  all_true = []\n",
        "  \n",
        "  with torch.no_grad(): #reduce memory usage and speed up the evaluation (no backpropagation che non si fa sul test)\n",
        "    for data in test_loader:\n",
        "      images, labels = data\n",
        "\n",
        "      for img in images:\n",
        "        all_imgs.append(img) #mi salvo in una lista le immagini per ogni batch alla fine le avrò tutte\n",
        "      for lab in labels:\n",
        "        all_true.append(float(lab)) #mi salvo in una lista le labels per ogni batch alla fine le avrò tutte\n",
        "\n",
        "      images = images.to(device)\n",
        "      labels = labels.to(device)\n",
        "      total += labels.size(0)\n",
        "     \n",
        "      outputs = best_model(images)\n",
        "\n",
        "      _, predicted = torch.max(outputs.data, 1)\n",
        "      for pred in predicted:\n",
        "        all_pred.append(float(pred)) #mi salvo tutte le prediction\n",
        "\n",
        "\n",
        "      true_predicted_on_epoch += (predicted==labels).sum().item()\n",
        "    \n",
        "    epoch_accuracy = (true_predicted_on_epoch/total)*100\n",
        "  print(\"   -- Test Dataset. Got %d out of %d images correctly (%.3f%%)\" %(true_predicted_on_epoch, total, epoch_accuracy))\n",
        "  precisionEval = metrics.precision_score(all_true, all_pred, zero_division=1)\n",
        "  recallEval =  metrics.recall_score(all_true, all_pred, zero_division=1)\n",
        "  f1Score = metrics.f1_score(all_true, all_pred, zero_division=1)\n",
        "  print(\"   -- Test Dataset, precision: \", precisionEval)\n",
        "  print(\"   -- Test Dataset, recall: \", recallEval)\n",
        "  print(\"   -- Test Dataset, f1 score: \", f1Score)\n",
        "  return epoch_accuracy"
      ]
    },
    {
      "cell_type": "code",
      "execution_count": null,
      "metadata": {
        "id": "mq53LWA1xzj3"
      },
      "outputs": [],
      "source": [
        "test_acc = evaluate_model_test(best_model, test_loader)"
      ]
    },
    {
      "cell_type": "code",
      "execution_count": null,
      "metadata": {
        "id": "2Stbtu8ox4_X"
      },
      "outputs": [],
      "source": [
        "plt.plot(plot_train_acc, label = \"Train Accuracy\")\n",
        "plt.plot(plot_val_acc, label = \"Val Accuracy\")\n",
        "plt.xlabel('Epoch')\n",
        "plt.ylabel('Accuracy')\n",
        "plt.legend()\n",
        "plt.show()\n",
        "\n",
        "plt.plot(plot_train_loss, label = \"Loss\")\n",
        "plt.xlabel('Epoch')\n",
        "plt.ylabel('Loss')\n",
        "plt.legend()\n",
        "plt.show()\n",
        "\n",
        "\n",
        "plt.plot(lrs, label = \"Learning Rate\")\n",
        "plt.xlabel('time steps')\n",
        "plt.ylabel('Lr')\n",
        "plt.legend()\n",
        "plt.show()\n",
        "\n",
        "\n",
        "plotConfusions(all_true, all_pred)\n",
        "print(\"Confusion matrixes plotted.\")"
      ]
    },
    {
      "cell_type": "code",
      "execution_count": null,
      "metadata": {
        "id": "_LoIq3HMrdvp"
      },
      "outputs": [],
      "source": [
        "'''\n",
        "mat = scipy.io.loadmat(CLA_PATH+FOLDERS_PATH)\n",
        "\n",
        "NUM_CHANNELS = 29\n",
        "\n",
        "ch_names = [item[0][0] for item in mat['o']['chnames'][0][0]]\n",
        "ch_names = [mat['o']['chnames'][0][0][i][0][0] for i in range(NUM_CHANNELS-1)]\n",
        "ch_names.append('X3')\n",
        "#print(ch_names)\n",
        "\n",
        "data = mat['o']['data'][0][0]\n",
        "data_df = pd.DataFrame(data, columns=ch_names)\n",
        "data_df.head()\n",
        "'''"
      ]
    },
    {
      "cell_type": "code",
      "execution_count": null,
      "metadata": {
        "id": "eqJk-UgmHSqI"
      },
      "outputs": [],
      "source": [
        "'''\n",
        "markers = list(mat['o']['marker'][0][0]) #labels\n",
        "data = mat['o']['data'][0][0]\n",
        "nS = int(mat['o']['nS'][0][0][0][0]) #number of samples\n",
        "\n",
        "#markers = markers[0:60000]\n",
        "nS = len(markers)\n",
        "markers = list(filter(lambda marker: marker < 7 , markers))\n",
        "n_labeled_S = int(len(markers)) #numero di label senza i 91-92-93 -> (0,1,2,3,4,5,6)\n",
        "\n",
        "print(nS)\n",
        "print(n_labeled_S)\n",
        "'''"
      ]
    },
    {
      "cell_type": "markdown",
      "metadata": {
        "id": "TglIW0FoFxFT"
      },
      "source": [
        "##**Trials extraction**"
      ]
    },
    {
      "cell_type": "code",
      "execution_count": null,
      "metadata": {
        "id": "nCoGKv0xBbEK"
      },
      "outputs": [],
      "source": [
        "'''\n",
        "trials = []\n",
        "labels = []\n",
        "trial = []\n",
        "for i in range(n_labeled_S-1):\n",
        "  if markers[i] != 0:\n",
        "    if markers[i+1] !=0: #trial\n",
        "      trial.append(data[i, :])\n",
        "    elif markers[i+1] == 0:\n",
        "      trial.append(data[i, :])\n",
        "      #trials.append(trial)\n",
        "      trials.append(np.array(trial)[:203, :])\n",
        "      labels.append(markers[i])\n",
        "      trial = []\n",
        "\n",
        "print(np.shape(np.array(trials[0])))\n",
        "print('trial di zero', trials[0])\n",
        "print(trials[0][0])\n",
        "'''"
      ]
    },
    {
      "cell_type": "markdown",
      "metadata": {
        "id": "0cdrO5XOhPfP"
      },
      "source": [
        "##**Cerco la time_series più lunga così faccio padding a tutte le altre**"
      ]
    },
    {
      "cell_type": "code",
      "execution_count": null,
      "metadata": {
        "id": "wbz06YY_Y8Zt"
      },
      "outputs": [],
      "source": [
        "'''\n",
        "min_len = 207\n",
        "\n",
        "for idx, trial in enumerate(trials):\n",
        " if((np.shape(np.array(trial))[0]) < min_len):\n",
        "   min_len = np.shape(np.array(trial))[0]\n",
        "\n",
        "print(min_len)\n",
        "print(np.shape(np.array(trials[2])))\n",
        "'''"
      ]
    },
    {
      "cell_type": "markdown",
      "metadata": {
        "id": "edpYtZBYV8ev"
      },
      "source": [
        "##**Padding**"
      ]
    },
    {
      "cell_type": "code",
      "execution_count": null,
      "metadata": {
        "colab": {
          "base_uri": "https://localhost:8080/"
        },
        "id": "RL8Lb4LEjfI7",
        "outputId": "e6ef8e91-04a3-4dae-e99b-d31721060dfe"
      },
      "outputs": [
        {
          "name": "stdout",
          "output_type": "stream",
          "text": [
            "(207, 22)\n"
          ]
        }
      ],
      "source": [
        "'''\n",
        "max_len = 207\n",
        "padding = list(np.zeros(22))\n",
        "\n",
        "for idx, trial in enumerate(trials):\n",
        "  while (np.shape(np.array(trial))[0]) < max_len:\n",
        "    trial.append(padding)\n",
        "  list(trial)\n",
        "\n",
        "print(np.shape(np.array(trials[43])))\n",
        "'''"
      ]
    },
    {
      "cell_type": "code",
      "execution_count": null,
      "metadata": {
        "id": "V2KDQCjEBFRs"
      },
      "outputs": [],
      "source": [
        "class CNNLSTM(nn.Module):\n",
        "    def __init__(self, cnn, embed_size=1280, LSTM_UNITS=64, DO = 0.3):\n",
        "        super(CNNLSTM, self).__init__()\n",
        "        self.cnn = cnn.module\n",
        "        self.cnn.eval()\n",
        "        self.avgpool = torch.nn.AdaptiveAvgPool2d(1)\n",
        "        self.lstm1 = nn.LSTM(embed_size, LSTM_UNITS, bidirectional=True, batch_first=True)\n",
        "        self.lstm2 = nn.LSTM(LSTM_UNITS * 2, LSTM_UNITS, bidirectional=True, batch_first=True)\n",
        "\n",
        "        self.linear1 = nn.Linear(LSTM_UNITS*2, LSTM_UNITS*2)\n",
        "        self.linear2 = nn.Linear(LSTM_UNITS*2, LSTM_UNITS*2)\n",
        "\n",
        "        self.linear_pe = nn.Linear(LSTM_UNITS*2, 1)\n",
        "        self.linear_global = nn.Linear(LSTM_UNITS*2, 9)\n",
        "\n",
        "    def forward(self, x, lengths=None):\n",
        "        with torch.no_grad():\n",
        "            embedding = self.cnn.extract_features(x)\n",
        "            embedding = self.avgpool(embedding)\n",
        "            b,f,_,_ = embedding.shape\n",
        "            embedding = embedding.reshape(1,b,f)\n",
        "        self.lstm1.flatten_parameters()\n",
        "        h_lstm1, _ = self.lstm1(embedding)\n",
        "        self.lstm2.flatten_parameters()\n",
        "        h_lstm2, _ = self.lstm2(h_lstm1)\n",
        "        \n",
        "        h_conc_linear1  = F.relu(self.linear1(h_lstm1))\n",
        "        h_conc_linear2  = F.relu(self.linear2(h_lstm2))\n",
        "        \n",
        "        hidden = h_lstm1 + h_lstm2 + h_conc_linear1 + h_conc_linear2\n",
        "\n",
        "        output = self.linear_pe(hidden)\n",
        "        output_global = self.linear_global(hidden.mean(1))\n",
        "        return output,output_global"
      ]
    }
  ],
  "metadata": {
    "colab": {
      "provenance": []
    },
    "kernelspec": {
      "display_name": "Python 3",
      "name": "python3"
    },
    "language_info": {
      "name": "python"
    },
    "widgets": {
      "application/vnd.jupyter.widget-state+json": {
        "c5ddda7f324e401f84dccfaf323e14cc": {
          "model_module": "@jupyter-widgets/controls",
          "model_name": "HBoxModel",
          "model_module_version": "1.5.0",
          "state": {
            "_dom_classes": [],
            "_model_module": "@jupyter-widgets/controls",
            "_model_module_version": "1.5.0",
            "_model_name": "HBoxModel",
            "_view_count": null,
            "_view_module": "@jupyter-widgets/controls",
            "_view_module_version": "1.5.0",
            "_view_name": "HBoxView",
            "box_style": "",
            "children": [
              "IPY_MODEL_6a497add40054e7cb454bbce8b2270a3",
              "IPY_MODEL_e54873946bed41028f385f3c9502cf69",
              "IPY_MODEL_e1f1e6b48b4e4a288276733729d598e1"
            ],
            "layout": "IPY_MODEL_700fdd6ed65146638fa160b1c88cf83b"
          }
        },
        "6a497add40054e7cb454bbce8b2270a3": {
          "model_module": "@jupyter-widgets/controls",
          "model_name": "HTMLModel",
          "model_module_version": "1.5.0",
          "state": {
            "_dom_classes": [],
            "_model_module": "@jupyter-widgets/controls",
            "_model_module_version": "1.5.0",
            "_model_name": "HTMLModel",
            "_view_count": null,
            "_view_module": "@jupyter-widgets/controls",
            "_view_module_version": "1.5.0",
            "_view_name": "HTMLView",
            "description": "",
            "description_tooltip": null,
            "layout": "IPY_MODEL_578cb8d40f98453c96be46031e55251e",
            "placeholder": "​",
            "style": "IPY_MODEL_399b0beb3e284581a559236b5a010acf",
            "value": "100%"
          }
        },
        "e54873946bed41028f385f3c9502cf69": {
          "model_module": "@jupyter-widgets/controls",
          "model_name": "FloatProgressModel",
          "model_module_version": "1.5.0",
          "state": {
            "_dom_classes": [],
            "_model_module": "@jupyter-widgets/controls",
            "_model_module_version": "1.5.0",
            "_model_name": "FloatProgressModel",
            "_view_count": null,
            "_view_module": "@jupyter-widgets/controls",
            "_view_module_version": "1.5.0",
            "_view_name": "ProgressView",
            "bar_style": "success",
            "description": "",
            "description_tooltip": null,
            "layout": "IPY_MODEL_5c78a3f0d08c440ab417cbd5480558d2",
            "max": 102530333,
            "min": 0,
            "orientation": "horizontal",
            "style": "IPY_MODEL_5649a825779f44fabef6d202bca15ac2",
            "value": 102530333
          }
        },
        "e1f1e6b48b4e4a288276733729d598e1": {
          "model_module": "@jupyter-widgets/controls",
          "model_name": "HTMLModel",
          "model_module_version": "1.5.0",
          "state": {
            "_dom_classes": [],
            "_model_module": "@jupyter-widgets/controls",
            "_model_module_version": "1.5.0",
            "_model_name": "HTMLModel",
            "_view_count": null,
            "_view_module": "@jupyter-widgets/controls",
            "_view_module_version": "1.5.0",
            "_view_name": "HTMLView",
            "description": "",
            "description_tooltip": null,
            "layout": "IPY_MODEL_d90608b2255b4fc884b13befc181a86f",
            "placeholder": "​",
            "style": "IPY_MODEL_aff57a95395d4b4ab55b6c7f9d659548",
            "value": " 97.8M/97.8M [00:03&lt;00:00, 25.3MB/s]"
          }
        },
        "700fdd6ed65146638fa160b1c88cf83b": {
          "model_module": "@jupyter-widgets/base",
          "model_name": "LayoutModel",
          "model_module_version": "1.2.0",
          "state": {
            "_model_module": "@jupyter-widgets/base",
            "_model_module_version": "1.2.0",
            "_model_name": "LayoutModel",
            "_view_count": null,
            "_view_module": "@jupyter-widgets/base",
            "_view_module_version": "1.2.0",
            "_view_name": "LayoutView",
            "align_content": null,
            "align_items": null,
            "align_self": null,
            "border": null,
            "bottom": null,
            "display": null,
            "flex": null,
            "flex_flow": null,
            "grid_area": null,
            "grid_auto_columns": null,
            "grid_auto_flow": null,
            "grid_auto_rows": null,
            "grid_column": null,
            "grid_gap": null,
            "grid_row": null,
            "grid_template_areas": null,
            "grid_template_columns": null,
            "grid_template_rows": null,
            "height": null,
            "justify_content": null,
            "justify_items": null,
            "left": null,
            "margin": null,
            "max_height": null,
            "max_width": null,
            "min_height": null,
            "min_width": null,
            "object_fit": null,
            "object_position": null,
            "order": null,
            "overflow": null,
            "overflow_x": null,
            "overflow_y": null,
            "padding": null,
            "right": null,
            "top": null,
            "visibility": null,
            "width": null
          }
        },
        "578cb8d40f98453c96be46031e55251e": {
          "model_module": "@jupyter-widgets/base",
          "model_name": "LayoutModel",
          "model_module_version": "1.2.0",
          "state": {
            "_model_module": "@jupyter-widgets/base",
            "_model_module_version": "1.2.0",
            "_model_name": "LayoutModel",
            "_view_count": null,
            "_view_module": "@jupyter-widgets/base",
            "_view_module_version": "1.2.0",
            "_view_name": "LayoutView",
            "align_content": null,
            "align_items": null,
            "align_self": null,
            "border": null,
            "bottom": null,
            "display": null,
            "flex": null,
            "flex_flow": null,
            "grid_area": null,
            "grid_auto_columns": null,
            "grid_auto_flow": null,
            "grid_auto_rows": null,
            "grid_column": null,
            "grid_gap": null,
            "grid_row": null,
            "grid_template_areas": null,
            "grid_template_columns": null,
            "grid_template_rows": null,
            "height": null,
            "justify_content": null,
            "justify_items": null,
            "left": null,
            "margin": null,
            "max_height": null,
            "max_width": null,
            "min_height": null,
            "min_width": null,
            "object_fit": null,
            "object_position": null,
            "order": null,
            "overflow": null,
            "overflow_x": null,
            "overflow_y": null,
            "padding": null,
            "right": null,
            "top": null,
            "visibility": null,
            "width": null
          }
        },
        "399b0beb3e284581a559236b5a010acf": {
          "model_module": "@jupyter-widgets/controls",
          "model_name": "DescriptionStyleModel",
          "model_module_version": "1.5.0",
          "state": {
            "_model_module": "@jupyter-widgets/controls",
            "_model_module_version": "1.5.0",
            "_model_name": "DescriptionStyleModel",
            "_view_count": null,
            "_view_module": "@jupyter-widgets/base",
            "_view_module_version": "1.2.0",
            "_view_name": "StyleView",
            "description_width": ""
          }
        },
        "5c78a3f0d08c440ab417cbd5480558d2": {
          "model_module": "@jupyter-widgets/base",
          "model_name": "LayoutModel",
          "model_module_version": "1.2.0",
          "state": {
            "_model_module": "@jupyter-widgets/base",
            "_model_module_version": "1.2.0",
            "_model_name": "LayoutModel",
            "_view_count": null,
            "_view_module": "@jupyter-widgets/base",
            "_view_module_version": "1.2.0",
            "_view_name": "LayoutView",
            "align_content": null,
            "align_items": null,
            "align_self": null,
            "border": null,
            "bottom": null,
            "display": null,
            "flex": null,
            "flex_flow": null,
            "grid_area": null,
            "grid_auto_columns": null,
            "grid_auto_flow": null,
            "grid_auto_rows": null,
            "grid_column": null,
            "grid_gap": null,
            "grid_row": null,
            "grid_template_areas": null,
            "grid_template_columns": null,
            "grid_template_rows": null,
            "height": null,
            "justify_content": null,
            "justify_items": null,
            "left": null,
            "margin": null,
            "max_height": null,
            "max_width": null,
            "min_height": null,
            "min_width": null,
            "object_fit": null,
            "object_position": null,
            "order": null,
            "overflow": null,
            "overflow_x": null,
            "overflow_y": null,
            "padding": null,
            "right": null,
            "top": null,
            "visibility": null,
            "width": null
          }
        },
        "5649a825779f44fabef6d202bca15ac2": {
          "model_module": "@jupyter-widgets/controls",
          "model_name": "ProgressStyleModel",
          "model_module_version": "1.5.0",
          "state": {
            "_model_module": "@jupyter-widgets/controls",
            "_model_module_version": "1.5.0",
            "_model_name": "ProgressStyleModel",
            "_view_count": null,
            "_view_module": "@jupyter-widgets/base",
            "_view_module_version": "1.2.0",
            "_view_name": "StyleView",
            "bar_color": null,
            "description_width": ""
          }
        },
        "d90608b2255b4fc884b13befc181a86f": {
          "model_module": "@jupyter-widgets/base",
          "model_name": "LayoutModel",
          "model_module_version": "1.2.0",
          "state": {
            "_model_module": "@jupyter-widgets/base",
            "_model_module_version": "1.2.0",
            "_model_name": "LayoutModel",
            "_view_count": null,
            "_view_module": "@jupyter-widgets/base",
            "_view_module_version": "1.2.0",
            "_view_name": "LayoutView",
            "align_content": null,
            "align_items": null,
            "align_self": null,
            "border": null,
            "bottom": null,
            "display": null,
            "flex": null,
            "flex_flow": null,
            "grid_area": null,
            "grid_auto_columns": null,
            "grid_auto_flow": null,
            "grid_auto_rows": null,
            "grid_column": null,
            "grid_gap": null,
            "grid_row": null,
            "grid_template_areas": null,
            "grid_template_columns": null,
            "grid_template_rows": null,
            "height": null,
            "justify_content": null,
            "justify_items": null,
            "left": null,
            "margin": null,
            "max_height": null,
            "max_width": null,
            "min_height": null,
            "min_width": null,
            "object_fit": null,
            "object_position": null,
            "order": null,
            "overflow": null,
            "overflow_x": null,
            "overflow_y": null,
            "padding": null,
            "right": null,
            "top": null,
            "visibility": null,
            "width": null
          }
        },
        "aff57a95395d4b4ab55b6c7f9d659548": {
          "model_module": "@jupyter-widgets/controls",
          "model_name": "DescriptionStyleModel",
          "model_module_version": "1.5.0",
          "state": {
            "_model_module": "@jupyter-widgets/controls",
            "_model_module_version": "1.5.0",
            "_model_name": "DescriptionStyleModel",
            "_view_count": null,
            "_view_module": "@jupyter-widgets/base",
            "_view_module_version": "1.2.0",
            "_view_name": "StyleView",
            "description_width": ""
          }
        }
      }
    }
  },
  "nbformat": 4,
  "nbformat_minor": 0
}